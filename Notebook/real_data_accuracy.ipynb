{
 "cells": [
  {
   "cell_type": "code",
   "execution_count": 2,
   "metadata": {},
   "outputs": [],
   "source": [
    "import matplotlib.pyplot as plt\n",
    "%matplotlib inline\n",
    "import subprocess\n",
    "import shlex\n",
    "import numpy as np\n",
    "import pandas as pd\n",
    "\n",
    "import os\n",
    "import sys\n",
    "\n",
    "import pandas as pd\n",
    "import matplotlib.pyplot as plt\n",
    "import matplotlib.cm as cm\n",
    "import matplotlib\n",
    "\n",
    "repo_root = os.path.abspath(os.path.join(os.getcwd(), '..',))\n",
    "sys.path.append(repo_root)\n",
    "\n",
    "from src.utils.file_handlers import group_dataset_files, read_dataset_files\n",
    "from src.utils.operation_helpers import run_models, split_games\n",
    "from src.utils.c_operation_helpers import  run_simulation"
   ]
  },
  {
   "cell_type": "markdown",
   "metadata": {},
   "source": [
    "Python"
   ]
  },
  {
   "cell_type": "code",
   "execution_count": null,
   "metadata": {},
   "outputs": [
    {
     "name": "stdout",
     "output_type": "stream",
     "text": [
      "410\n",
      "522\n",
      "         model  log-likelihoods  leadership-log-likelihood\n",
      "0          BIN        -2.347709                  -0.704776\n",
      "1         BINL        -3.647801                  -0.548435\n",
      "2        HO_BT        -2.318407                  -0.748193\n",
      "3       HOL_BT        -3.404857                  -0.560377\n",
      "4  Spring_Rank        -2.079217                  -0.752441\n",
      "5    Page_Rank        -2.556301                  -1.108194\n",
      "6   Point_Wise        -2.360322                  -0.957587\n"
     ]
    }
   ],
   "source": [
    "data_dir = os.path.join(repo_root, 'datasets', 'Real_Data')\n",
    "grouped = group_dataset_files(data_dir)\n",
    "\n",
    "data, pi_values = read_dataset_files(grouped['00106'], data_dir, is_synthetic=False)\n",
    "\n",
    "# train, test = train_test_split(data, test_size=.8)\n",
    "train, test = split_games(data, .8)\n",
    "\n",
    "df = run_models(train, test, pi_values)\n",
    "print(df)\n"
   ]
  },
  {
   "cell_type": "markdown",
   "metadata": {},
   "source": [
    "C "
   ]
  },
  {
   "cell_type": "code",
   "execution_count": 4,
   "metadata": {},
   "outputs": [
    {
     "name": "stdout",
     "output_type": "stream",
     "text": [
      "  model  av_error   spearman     kendall     prior   HO_Like   HOL_Like  \\\n",
      "0    HO  0.298852       -0.6   -0.466667  -1.54455  -6.36203  -0.775713   \n",
      "1   HOL  0.336181  -0.142857  -0.0666667  -1.59171  -4.06419   -0.19434   \n",
      "2   BIN  0.302106  -0.485714   -0.333333  -1.55203  -5.93088  -0.644032   \n",
      "3  BINL  0.355965  -0.169031   0.0666667  -1.66226   -3.9374  -0.126713   \n",
      "\n",
      "  iterations  \n",
      "0          8  \n",
      "1         15  \n",
      "2          8  \n",
      "3         15  \n"
     ]
    }
   ],
   "source": [
    "data_dir = os.path.join(repo_root, 'datasets', 'Real_Data')\n",
    "grouped = group_dataset_files(data_dir)\n",
    "\n",
    "edge_file = grouped['00106']['edges']\n",
    "node_file = grouped['00106']['nodes']\n",
    "\n",
    "edge_path = os.path.join(data_dir, edge_file)\n",
    "node_path = os.path.join(data_dir, node_file)\n",
    "\n",
    "results = run_simulation(node_path, edge_path, .8)\n",
    "print(results)"
   ]
  }
 ],
 "metadata": {
  "kernelspec": {
   "display_name": ".venv",
   "language": "python",
   "name": "python3"
  },
  "language_info": {
   "codemirror_mode": {
    "name": "ipython",
    "version": 3
   },
   "file_extension": ".py",
   "mimetype": "text/x-python",
   "name": "python",
   "nbconvert_exporter": "python",
   "pygments_lexer": "ipython3",
   "version": "3.10.12"
  }
 },
 "nbformat": 4,
 "nbformat_minor": 2
}
