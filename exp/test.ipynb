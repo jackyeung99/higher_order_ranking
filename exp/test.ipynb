{
 "cells": [
  {
   "cell_type": "code",
   "execution_count": 4,
   "metadata": {},
   "outputs": [],
   "source": [
    "import os\n",
    "import sys\n",
    "\n",
    "import random\n",
    "import pandas as pd\n",
    "import numpy as np \n",
    "from concurrent.futures import ProcessPoolExecutor\n",
    "from sklearn.model_selection import train_test_split\n",
    "\n",
    "repo_root = os.path.abspath(os.path.join(os.getcwd(), '..'))\n",
    "sys.path.append(repo_root)\n",
    "\n",
    "from src import *\n",
    "from src.utils.convergence_test_helpers import *\n"
   ]
  },
  {
   "cell_type": "code",
   "execution_count": 7,
   "metadata": {},
   "outputs": [
    {
     "name": "stdout",
     "output_type": "stream",
     "text": [
      "299\n"
     ]
    }
   ],
   "source": [
    "repetitions = 1000\n",
    "file_path = os.path.join(repo_root, 'datasets', 'processed_data', '00009_edges.txt')\n",
    "\n",
    "# assume that read edge list returns weighted games\n",
    "data, pi_values = read_edge_list(file_path)\n",
    "\n",
    "# using un weighted data for Plackett Luce model \n",
    "un_weighted_data = convert_dict_to_games(data)\n",
    "\n",
    "print(len(un_weighted_data))\n",
    "\n",
    "# iterations = []\n",
    "# for rep in range(repetitions):\n",
    "#     #randomize the list of games\n",
    "#     random_data, _ = train_test_split(un_weighted_data, test_size=.2)\n",
    "#     scores, info = compute_predicted_ratings_HO_BT_info_random(random_data, pi_values)\n",
    "#     iterations.append(list(info.keys())[-1])"
   ]
  },
  {
   "cell_type": "code",
   "execution_count": 6,
   "metadata": {},
   "outputs": [
    {
     "name": "stdout",
     "output_type": "stream",
     "text": [
      "16.874\n",
      "1.1234429224486662\n"
     ]
    }
   ],
   "source": [
    "import numpy as np\n",
    "print(np.mean(iterations))\n",
    "print(np.std(iterations))"
   ]
  },
  {
   "cell_type": "code",
   "execution_count": null,
   "metadata": {},
   "outputs": [],
   "source": []
  }
 ],
 "metadata": {
  "kernelspec": {
   "display_name": ".venv",
   "language": "python",
   "name": "python3"
  },
  "language_info": {
   "codemirror_mode": {
    "name": "ipython",
    "version": 3
   },
   "file_extension": ".py",
   "mimetype": "text/x-python",
   "name": "python",
   "nbconvert_exporter": "python",
   "pygments_lexer": "ipython3",
   "version": "3.10.12"
  }
 },
 "nbformat": 4,
 "nbformat_minor": 2
}
