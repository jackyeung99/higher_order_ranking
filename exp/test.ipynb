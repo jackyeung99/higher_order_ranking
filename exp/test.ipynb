{
 "cells": [
  {
   "cell_type": "code",
   "execution_count": 29,
   "metadata": {},
   "outputs": [],
   "source": [
    "import os \n",
    "import sys\n",
    "import matplotlib.pyplot as plt\n",
    "\n",
    "\n",
    "repo_root = os.path.abspath(os.path.join(os.getcwd(), '..', ))\n",
    "sys.path.append(repo_root)\n",
    "\n",
    "from src import *\n",
    "from src.models.BradleyTerry import *\n",
    "from tst.tst_weight_conversion.old_newman import * "
   ]
  },
  {
   "cell_type": "code",
   "execution_count": 10,
   "metadata": {},
   "outputs": [],
   "source": [
    "def compute_predicted_ratings_HO_BT_info(training_set, pi_values): \n",
    "    bond_matrix = create_hypergraph_from_data_weight(training_set)\n",
    "    predicted_ho_scores, iter = synch_solve_equations(bond_matrix, 10000, pi_values, iterate_equation_newman_weighted, sens=1e-6)\n",
    "    return predicted_ho_scores, iter"
   ]
  },
  {
   "cell_type": "code",
   "execution_count": 30,
   "metadata": {},
   "outputs": [],
   "source": [
    "def synch_solve_equations_info(bond_matrix, max_iter, pi_values, method, sens=1e-10):\n",
    "    scores = {n: 1.0 for n in pi_values}\n",
    "    normalize_scores_old(scores)\n",
    "\n",
    "    info = {}\n",
    "    err = 1.0\n",
    "    iteration = 0\n",
    "    while iteration < max_iter and err > sens:\n",
    "        \n",
    "        err = 0.0\n",
    "        tmp_scores = {}\n",
    "\n",
    "\n",
    "        for s in scores:\n",
    "            tmp_scores[s] = method(s, scores, bond_matrix)\n",
    "\n",
    "                 \n",
    "        normalize_scores_old(tmp_scores)\n",
    "\n",
    "        for s in tmp_scores:\n",
    "            if abs(tmp_scores[s]-scores[s]) > err:\n",
    "                err = abs(tmp_scores[s]-scores[s])\n",
    "            scores[s] = tmp_scores[s]\n",
    "                \n",
    "        # print(err)\n",
    "        iteration += 1\n",
    "        info[iteration] = err\n",
    "\n",
    "   \n",
    "    return scores, iteration\n",
    "\n",
    "\n",
    "def compute_predicted_ratings_HO_BT_info_random(training_set, pi_values, max_iter=1000): \n",
    "    # Using un-weighted newman iterative schema such that a random shuffle of the data can occur \n",
    "    bond_matrix = create_hypergraph_from_data_old(training_set)\n",
    "    predicted_ho_scores, info  = synch_solve_equations_info(bond_matrix, max_iter, pi_values, iterate_equation_newman_old, sens=1e-6)\n",
    " \n",
    "    return predicted_ho_scores, info"
   ]
  },
  {
   "cell_type": "code",
   "execution_count": 35,
   "metadata": {},
   "outputs": [
    {
     "name": "stdout",
     "output_type": "stream",
     "text": [
      "99\n",
      "124\n",
      "103\n",
      "89\n",
      "135\n",
      "72\n",
      "103\n",
      "111\n",
      "92\n",
      "96\n",
      "112\n",
      "144\n",
      "149\n",
      "114\n",
      "110\n",
      "99\n",
      "135\n",
      "132\n",
      "168\n",
      "94\n",
      "130\n",
      "84\n",
      "91\n",
      "88\n",
      "130\n",
      "82\n",
      "93\n",
      "151\n",
      "103\n",
      "141\n",
      "119\n",
      "108\n",
      "94\n",
      "116\n",
      "109\n",
      "94\n",
      "83\n",
      "102\n",
      "91\n",
      "78\n",
      "105\n",
      "119\n",
      "81\n",
      "96\n",
      "94\n",
      "93\n",
      "119\n",
      "123\n",
      "106\n",
      "88\n",
      "102\n",
      "104\n",
      "120\n",
      "76\n",
      "111\n",
      "151\n",
      "128\n",
      "119\n",
      "118\n",
      "141\n",
      "96\n",
      "133\n",
      "132\n",
      "110\n",
      "107\n",
      "93\n",
      "136\n",
      "96\n",
      "65\n",
      "138\n",
      "209\n",
      "92\n",
      "140\n",
      "102\n",
      "148\n",
      "72\n",
      "123\n",
      "103\n",
      "95\n",
      "112\n",
      "112\n",
      "126\n",
      "107\n",
      "124\n",
      "105\n",
      "107\n",
      "99\n",
      "77\n",
      "153\n",
      "83\n",
      "81\n",
      "116\n"
     ]
    },
    {
     "ename": "KeyboardInterrupt",
     "evalue": "",
     "output_type": "error",
     "traceback": [
      "\u001b[0;31m---------------------------------------------------------------------------\u001b[0m",
      "\u001b[0;31mKeyboardInterrupt\u001b[0m                         Traceback (most recent call last)",
      "Cell \u001b[0;32mIn[35], line 7\u001b[0m\n\u001b[1;32m      5\u001b[0m \u001b[38;5;28;01mfor\u001b[39;00m rep \u001b[38;5;129;01min\u001b[39;00m \u001b[38;5;28mrange\u001b[39m(\u001b[38;5;241m100\u001b[39m):\n\u001b[1;32m      6\u001b[0m     data, pi_values \u001b[38;5;241m=\u001b[39m generate_weighted_model_instance(\u001b[38;5;241m100\u001b[39m, \u001b[38;5;241m100\u001b[39m, K , K)\n\u001b[0;32m----> 7\u001b[0m     predicted_scores, \u001b[38;5;28miter\u001b[39m \u001b[38;5;241m=\u001b[39m \u001b[43mcompute_predicted_ratings_HO_BT_info\u001b[49m\u001b[43m(\u001b[49m\u001b[43mdata\u001b[49m\u001b[43m,\u001b[49m\u001b[43m \u001b[49m\u001b[43mpi_values\u001b[49m\u001b[43m)\u001b[49m\n\u001b[1;32m      9\u001b[0m     \u001b[38;5;66;03m# data, pi_values = generate_model_instance(100, 100, K , K)\u001b[39;00m\n\u001b[1;32m     10\u001b[0m     \u001b[38;5;66;03m# predicted_scores, iter = compute_predicted_ratings_HO_BT_info_random(data, pi_values)\u001b[39;00m\n\u001b[1;32m     12\u001b[0m     \u001b[38;5;28;01mif\u001b[39;00m K \u001b[38;5;129;01min\u001b[39;00m values:\n",
      "Cell \u001b[0;32mIn[10], line 3\u001b[0m, in \u001b[0;36mcompute_predicted_ratings_HO_BT_info\u001b[0;34m(training_set, pi_values)\u001b[0m\n\u001b[1;32m      1\u001b[0m \u001b[38;5;28;01mdef\u001b[39;00m \u001b[38;5;21mcompute_predicted_ratings_HO_BT_info\u001b[39m(training_set, pi_values): \n\u001b[1;32m      2\u001b[0m     bond_matrix \u001b[38;5;241m=\u001b[39m create_hypergraph_from_data_weight(training_set)\n\u001b[0;32m----> 3\u001b[0m     predicted_ho_scores, \u001b[38;5;28miter\u001b[39m \u001b[38;5;241m=\u001b[39m \u001b[43msynch_solve_equations\u001b[49m\u001b[43m(\u001b[49m\u001b[43mbond_matrix\u001b[49m\u001b[43m,\u001b[49m\u001b[43m \u001b[49m\u001b[38;5;241;43m10000\u001b[39;49m\u001b[43m,\u001b[49m\u001b[43m \u001b[49m\u001b[43mpi_values\u001b[49m\u001b[43m,\u001b[49m\u001b[43m \u001b[49m\u001b[43miterate_equation_newman_weighted\u001b[49m\u001b[43m,\u001b[49m\u001b[43m \u001b[49m\u001b[43msens\u001b[49m\u001b[38;5;241;43m=\u001b[39;49m\u001b[38;5;241;43m1e-6\u001b[39;49m\u001b[43m)\u001b[49m\n\u001b[1;32m      4\u001b[0m     \u001b[38;5;28mprint\u001b[39m(\u001b[38;5;28miter\u001b[39m)\n\u001b[1;32m      5\u001b[0m     \u001b[38;5;28;01mreturn\u001b[39;00m predicted_ho_scores, \u001b[38;5;28miter\u001b[39m\n",
      "File \u001b[0;32m~/senior_thesis/higher_order_ranking/src/models/BradleyTerry.py:35\u001b[0m, in \u001b[0;36msynch_solve_equations\u001b[0;34m(bond_matrix, max_iter, pi_values, method, sens)\u001b[0m\n\u001b[1;32m     31\u001b[0m \u001b[38;5;66;03m# tmp_scores = scores.copy()\u001b[39;00m\n\u001b[1;32m     34\u001b[0m \u001b[38;5;28;01mfor\u001b[39;00m s \u001b[38;5;129;01min\u001b[39;00m \u001b[38;5;28mrange\u001b[39m(\u001b[38;5;28mlen\u001b[39m(scores)):\n\u001b[0;32m---> 35\u001b[0m     \u001b[38;5;28;01mif\u001b[39;00m s \u001b[38;5;129;01min\u001b[39;00m bond_matrix:\n\u001b[1;32m     36\u001b[0m         games_with_player \u001b[38;5;241m=\u001b[39m bond_matrix[s]\n\u001b[1;32m     37\u001b[0m         tmp_scores[s] \u001b[38;5;241m=\u001b[39m method(s, scores, games_with_player)\n",
      "\u001b[0;31mKeyboardInterrupt\u001b[0m: "
     ]
    }
   ],
   "source": [
    "values = {}\n",
    "K_values = [2, 3, 4, 5, 6, 7, 8, 10]\n",
    "for K in K_values:\n",
    "\n",
    "    for rep in range(100):\n",
    "        data, pi_values = generate_weighted_model_instance(100, 100, K , K)\n",
    "        predicted_scores, iter = compute_predicted_ratings_HO_BT_info(data, pi_values)\n",
    "\n",
    "        # data, pi_values = generate_model_instance(100, 100, K , K)\n",
    "        # predicted_scores, iter = compute_predicted_ratings_HO_BT_info_random(data, pi_values)\n",
    "\n",
    "        if K in values:\n",
    "            values[K].append(iter)\n",
    "        else:\n",
    "            values[K] = [iter]\n",
    "    "
   ]
  },
  {
   "cell_type": "code",
   "execution_count": 33,
   "metadata": {},
   "outputs": [],
   "source": [
    "avg = {k: np.mean(v) for k,v in values.items()} "
   ]
  },
  {
   "cell_type": "code",
   "execution_count": 34,
   "metadata": {},
   "outputs": [
    {
     "data": {
      "text/plain": [
       "[<matplotlib.lines.Line2D at 0x7f8b4c8b9150>]"
      ]
     },
     "execution_count": 34,
     "metadata": {},
     "output_type": "execute_result"
    },
    {
     "data": {
      "image/png": "[encoded data removed]",
      "text/plain": [
       "<Figure size 640x480 with 1 Axes>"
      ]
     },
     "metadata": {},
     "output_type": "display_data"
    }
   ],
   "source": [
    "plt.plot(list(avg.keys()), list(avg.values()))"
   ]
  }
 ],
 "metadata": {
  "kernelspec": {
   "display_name": ".venv",
   "language": "python",
   "name": "python3"
  },
  "language_info": {
   "codemirror_mode": {
    "name": "ipython",
    "version": 3
   },
   "file_extension": ".py",
   "mimetype": "text/x-python",
   "name": "python",
   "nbconvert_exporter": "python",
   "pygments_lexer": "ipython3",
   "version": "3.10.12"
  }
 },
 "nbformat": 4,
 "nbformat_minor": 2
}
