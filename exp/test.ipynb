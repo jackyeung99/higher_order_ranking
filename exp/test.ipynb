{
 "cells": [
  {
   "cell_type": "code",
   "execution_count": 1,
   "metadata": {},
   "outputs": [],
   "source": [
    "import os \n",
    "import sys\n",
    "import matplotlib.pyplot as plt\n",
    "\n",
    "\n",
    "repo_root = os.path.abspath(os.path.join(os.getcwd(), '..', ))\n",
    "sys.path.append(repo_root)\n",
    "\n",
    "from src import *\n",
    "from src.models.BradleyTerry import *\n",
    "from tst.tst_weight_conversion.old_newman import * "
   ]
  },
  {
   "cell_type": "code",
   "execution_count": 2,
   "metadata": {},
   "outputs": [],
   "source": [
    "def compute_predicted_ratings_HO_BT_info(training_set, pi_values): \n",
    "    bond_matrix = create_hypergraph_from_data_weight(training_set)\n",
    "    predicted_ho_scores, iter = synch_solve_equations(bond_matrix, 10000, pi_values, iterate_equation_newman_weighted, sens=1e-6)\n",
    "    return predicted_ho_scores, iter"
   ]
  },
  {
   "cell_type": "code",
   "execution_count": 3,
   "metadata": {},
   "outputs": [],
   "source": [
    "def synch_solve_equations_info(bond_matrix, max_iter, pi_values, method, sens=1e-10):\n",
    "    scores = {n: 1.0 for n in pi_values}\n",
    "    normalize_scores_old(scores)\n",
    "\n",
    "    info = {}\n",
    "    err = 1.0\n",
    "    iteration = 0\n",
    "    while iteration < max_iter and err > sens:\n",
    "        \n",
    "        err = 0.0\n",
    "        tmp_scores = {}\n",
    "\n",
    "\n",
    "        for s in scores:\n",
    "            tmp_scores[s] = method(s, scores, bond_matrix)\n",
    "\n",
    "                 \n",
    "        normalize_scores_old(tmp_scores)\n",
    "\n",
    "        for s in tmp_scores:\n",
    "            if abs(tmp_scores[s]-scores[s]) > err:\n",
    "                err = abs(tmp_scores[s]-scores[s])\n",
    "            scores[s] = tmp_scores[s]\n",
    "                \n",
    "        # print(err)\n",
    "        iteration += 1\n",
    "        info[iteration] = err\n",
    "\n",
    "   \n",
    "    return scores, iteration\n",
    "\n",
    "\n",
    "def compute_predicted_ratings_HO_BT_info_random(training_set, pi_values, max_iter=1000): \n",
    "    # Using un-weighted newman iterative schema such that a random shuffle of the data can occur \n",
    "    bond_matrix = create_hypergraph_from_data_old(training_set)\n",
    "    predicted_ho_scores, info  = synch_solve_equations_info(bond_matrix, max_iter, pi_values, iterate_equation_newman_old, sens=1e-6)\n",
    " \n",
    "    return predicted_ho_scores, info"
   ]
  },
  {
   "cell_type": "code",
   "execution_count": 7,
   "metadata": {},
   "outputs": [],
   "source": [
    "values = {}\n",
    "K_values = [2, 3, 4, 5, 6, 7, 8, 10]\n",
    "for K in K_values:\n",
    "\n",
    "    for rep in range(100):\n",
    "        data, pi_values = generate_weighted_model_instance(100, 100, K , K)\n",
    "        predicted_scores, iter = compute_predicted_ratings_HO_BT_info(data, pi_values)\n",
    "\n",
    "        # data, pi_values = generate_model_instance(100, 100, K , K)\n",
    "        # predicted_scores, iter = compute_predicted_ratings_HO_BT_info_random(data, pi_values)\n",
    "\n",
    "        if K in values:\n",
    "            values[K].append(iter)\n",
    "        else:\n",
    "            values[K] = [iter]\n",
    "    "
   ]
  },
  {
   "cell_type": "code",
   "execution_count": 8,
   "metadata": {},
   "outputs": [],
   "source": [
    "avg = {k: np.mean(v) for k,v in values.items()} "
   ]
  },
  {
   "cell_type": "code",
   "execution_count": 9,
   "metadata": {},
   "outputs": [
    {
     "data": {
      "text/plain": [
       "[<matplotlib.lines.Line2D at 0x7f8bcbf77a60>]"
      ]
     },
     "execution_count": 9,
     "metadata": {},
     "output_type": "execute_result"
    },
    {
     "data": {
      "image/png": "[encoded data removed]",
      "text/plain": [
       "<Figure size 640x480 with 1 Axes>"
      ]
     },
     "metadata": {},
     "output_type": "display_data"
    }
   ],
   "source": [
    "plt.plot(list(avg.keys()), list(avg.values()))"
   ]
  }
 ],
 "metadata": {
  "kernelspec": {
   "display_name": ".venv",
   "language": "python",
   "name": "python3"
  },
  "language_info": {
   "codemirror_mode": {
    "name": "ipython",
    "version": 3
   },
   "file_extension": ".py",
   "mimetype": "text/x-python",
   "name": "python",
   "nbconvert_exporter": "python",
   "pygments_lexer": "ipython3",
   "version": "3.10.12"
  }
 },
 "nbformat": 4,
 "nbformat_minor": 2
}
