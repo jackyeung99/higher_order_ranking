{
 "cells": [
  {
   "cell_type": "code",
   "execution_count": 1,
   "metadata": {},
   "outputs": [],
   "source": [
    "import os\n",
    "import sys\n",
    "import csv\n",
    "import seaborn as sns\n",
    "import matplotlib.pyplot as plt\n",
    "import pandas as pd\n",
    "\n",
    "repo_root = os.path.abspath(os.path.join(os.getcwd(), '..', '..'))\n",
    "sys.path.append(repo_root)\n",
    "\n",
    "from src import *"
   ]
  },
  {
   "cell_type": "code",
   "execution_count": 2,
   "metadata": {},
   "outputs": [],
   "source": [
    "process_directory_real_data(os.getcwd())"
   ]
  },
  {
   "cell_type": "code",
   "execution_count": 10,
   "metadata": {},
   "outputs": [],
   "source": [
    "\n",
    "\n",
    "def process_results(base_path):\n",
    "    # Read the summary CSV files\n",
    "    log_likelihood_df = pd.read_csv(os.path.join(base_path, 'log_likelihood_summary.csv')).groupby(by=['dataset']).mean().reset_index\n",
    "    leadership_log_likelihood_df = pd.read_csv(os.path.join(base_path, 'leadership_log_likelihood_summary.csv')).groupby(by=['dataset']).mean().reset_index\n",
    "\n",
    "    return log_likelihood_df, leadership_log_likelihood_df"
   ]
  },
  {
   "cell_type": "code",
   "execution_count": 12,
   "metadata": {},
   "outputs": [
    {
     "name": "stdout",
     "output_type": "stream",
     "text": [
      "    dataset_id                               name     N         M  K1   K2\n",
      "5            8               glasgow_city_council   209    188376   1   13\n",
      "6            9               AGH_course_selection    10       299   7    9\n",
      "9           12                            t_shirt    12        30  11   11\n",
      "12          18               minneapolis_election   778    137482   1    3\n",
      "13          24               mechanical_turk_dots    13      3183   4    4\n",
      "14          25             mechanical_turk_puzzle    15      3180   4    4\n",
      "15          28                       APA_election     6    203896   1    5\n",
      "16          30                UK_labor_party_vote     6       266   1    5\n",
      "18          34                      cities_survey    85       784   6    6\n",
      "20          38               project_bidding_data   148       309   5    6\n",
      "22          42                             boxing   466      5594   1   17\n",
      "25          45                     tennis_ranking   701      2911  55  100\n",
      "32          52                  formula_1_seasons   851      1814   5   42\n",
      "33          53                    formula_1_races   133     48909   2   24\n",
      "37          58  NSW_legislative_assembly_election  1384  13658150   1   10\n",
      "38         100                   olympic_swimming  2060       453   5    8\n",
      "41         103                               FIFA    84       364   2    4\n",
      "42         104                         authorship  2177       738   2   25\n"
     ]
    }
   ],
   "source": [
    "unique_datasets = pd.read_csv(os.path.join(os.path.join(os.getcwd(), 'results'), 'log_likelihood_summary.csv'))['dataset'].unique()\n",
    "dataset_info = pd.read_csv(os.path.join(repo_root, 'datasets', 'dataset_info.csv'))\n",
    "filtered_dataset_info = dataset_info[dataset_info['dataset_id'].isin(unique_datasets)]\n",
    "print(filtered_dataset_info)\n",
    "\n"
   ]
  },
  {
   "cell_type": "code",
   "execution_count": 14,
   "metadata": {},
   "outputs": [],
   "source": [
    "\n",
    "log_like, leadership_log = process_results(os.path.join(os.getcwd(), 'results'))\n"
   ]
  },
  {
   "cell_type": "code",
   "execution_count": 15,
   "metadata": {},
   "outputs": [
    {
     "name": "stdout",
     "output_type": "stream",
     "text": [
      "<bound method DataFrame.reset_index of              newman  newman_leadership  higher_order_newman  \\\n",
      "dataset                                                       \n",
      "8         -3.149264          -3.253266            -3.145642   \n",
      "9         -9.090856         -11.111998            -9.033880   \n",
      "12       -15.622417         -22.406003           -15.501611   \n",
      "18        -1.426642          -1.429877            -1.426507   \n",
      "24        -2.980528          -3.000419            -2.980088   \n",
      "25        -2.963186          -2.985208            -2.962320   \n",
      "28        -3.688126          -3.697533            -3.687508   \n",
      "30        -2.520300          -2.561292            -2.516799   \n",
      "34        -5.286676          -6.034788            -5.279423   \n",
      "38        -5.509632          -6.234310            -5.425675   \n",
      "42       -21.598977         -37.398478           -20.808323   \n",
      "45      -265.238368        -382.647541          -258.656654   \n",
      "52       -46.151124         -69.369585           -45.658969   \n",
      "53       -33.840492         -37.330440           -33.605162   \n",
      "58        -4.387176          -5.256704            -4.365538   \n",
      "100      -10.774981         -10.492408           -10.255811   \n",
      "103       -1.403240          -1.434315            -1.390604   \n",
      "104       -3.219720          -3.177308            -3.172382   \n",
      "\n",
      "         higher_order_leadership  spring_rank  spring_rank_leadership  \\\n",
      "dataset                                                                 \n",
      "8                      -3.247894    -3.263314               -3.491993   \n",
      "9                      -9.631930   -22.523817              -57.053603   \n",
      "12                    -18.580471   -29.894162              -84.155203   \n",
      "18                     -1.429892    -2.696369               -3.003637   \n",
      "24                     -2.999025    -5.388297               -5.429043   \n",
      "25                     -2.985189    -6.141669               -6.171479   \n",
      "28                     -3.697512   -15.184778              -16.329624   \n",
      "30                     -2.579053    -4.703553               -4.677069   \n",
      "34                     -5.658318    -5.951235               -6.182634   \n",
      "38                     -5.717754    -6.321491               -6.479163   \n",
      "42                    -33.912908   -23.356379              -29.282750   \n",
      "45                   -337.602483  -265.206113             -305.313971   \n",
      "52                    -56.418864   -47.130770              -53.038837   \n",
      "53                    -37.049584   -33.852433              -34.955874   \n",
      "58                     -5.211099    -4.431060               -4.723657   \n",
      "100                   -10.154053   -10.183373              -10.385074   \n",
      "103                    -1.415182    -1.770098               -2.001542   \n",
      "104                    -3.154962    -3.172743               -3.213547   \n",
      "\n",
      "          page_rank  page_rank_leadership  point_wise   rep  \n",
      "dataset                                                      \n",
      "8         -3.257008             -3.190531   -3.184136  10.5  \n",
      "9        -11.952407            -10.701247   -9.950255  10.5  \n",
      "12       -19.519354            -17.615482  -16.294953  10.5  \n",
      "18        -1.503712             -1.489409   -1.471187  10.5  \n",
      "24        -3.158378             -3.159917   -3.061002  10.5  \n",
      "25        -3.502466             -3.389147   -3.066374  10.5  \n",
      "28        -3.695887             -3.692851   -3.690103  10.5  \n",
      "30        -3.266586             -2.894434   -2.707993  10.5  \n",
      "34        -8.280452             -7.000095   -5.858534  10.5  \n",
      "38        -5.603732             -5.528068   -5.953830  10.5  \n",
      "42       -31.894045            -26.431648  -23.252494  10.5  \n",
      "45      -300.667420           -281.066851 -265.505604  10.5  \n",
      "52       -52.896669            -51.635496  -47.984351  10.5  \n",
      "53       -35.610761            -35.041876  -33.915824  10.5  \n",
      "58        -4.911564             -4.686013   -4.498717  10.5  \n",
      "100      -33.950972            -32.635379  -46.041790  10.5  \n",
      "103       -1.969872             -1.870297   -1.620656  10.5  \n",
      "104       -7.210924             -7.047216  -10.703127  10.5  >\n"
     ]
    }
   ],
   "source": [
    "print(log_like)"
   ]
  },
  {
   "cell_type": "code",
   "execution_count": 16,
   "metadata": {},
   "outputs": [
    {
     "name": "stdout",
     "output_type": "stream",
     "text": [
      "<bound method DataFrame.reset_index of            newman  newman_leadership  higher_order_newman  \\\n",
      "dataset                                                     \n",
      "8       -1.145382          -1.116115            -1.146650   \n",
      "9       -0.796780          -2.328810            -0.875689   \n",
      "12      -2.167541          -2.026527            -2.213226   \n",
      "18      -0.926906          -0.925245            -0.927667   \n",
      "24      -1.253703          -1.249427            -1.257059   \n",
      "25      -1.231324          -1.225800            -1.234210   \n",
      "28      -1.390431          -1.388304            -1.391609   \n",
      "30      -1.175482          -1.181198            -1.173605   \n",
      "34      -1.218744          -1.224927            -1.235766   \n",
      "38      -1.777837          -1.914692            -1.764380   \n",
      "42      -1.368041          -0.786595            -1.535461   \n",
      "45      -2.401018          -1.533752            -2.630939   \n",
      "52      -2.478443          -2.098105            -2.602823   \n",
      "53      -2.444009          -2.334592            -2.509065   \n",
      "58      -1.259732          -1.156447            -1.302538   \n",
      "100     -1.843466          -1.840163            -1.807312   \n",
      "103     -0.814137          -0.842213            -0.809879   \n",
      "104     -1.153041          -1.143722            -1.141950   \n",
      "\n",
      "         higher_order_leadership  spring_rank  spring_rank_leadership  \\\n",
      "dataset                                                                 \n",
      "8                      -1.114305    -1.158483               -1.142349   \n",
      "9                      -1.171099    -1.344145               -0.308764   \n",
      "12                     -2.087757    -2.521367               -1.970626   \n",
      "18                     -0.925188    -1.492260               -1.612673   \n",
      "24                     -1.249443    -1.685674               -1.687512   \n",
      "25                     -1.225759    -2.015495               -2.014536   \n",
      "28                     -1.388247    -5.365315               -4.919198   \n",
      "30                     -1.173557    -1.759040               -1.754878   \n",
      "34                     -1.213860    -1.490371               -1.332234   \n",
      "38                     -1.785849    -1.999396               -1.963658   \n",
      "42                     -0.811278    -2.113649               -1.426215   \n",
      "45                     -1.542293    -3.751512               -2.153986   \n",
      "52                     -2.099162    -2.612564               -2.359327   \n",
      "53                     -2.332179    -2.614124               -2.479394   \n",
      "58                     -1.155554    -1.302831               -1.225418   \n",
      "100                    -1.806783    -1.920347               -1.874631   \n",
      "103                    -0.835120    -0.903777               -1.163404   \n",
      "104                    -1.138273    -1.170597               -1.185221   \n",
      "\n",
      "         page_rank  page_rank_leadership  point_wise   rep  \n",
      "dataset                                                     \n",
      "8        -1.227536             -1.194171   -1.173655  10.5  \n",
      "9        -3.061900             -2.214545   -1.677641  10.5  \n",
      "12       -2.668271             -2.428336   -2.244647  10.5  \n",
      "18       -0.988109             -0.974976   -0.967676  10.5  \n",
      "24       -1.319048             -1.310582   -1.319799  10.5  \n",
      "25       -1.556357             -1.486180   -1.318765  10.5  \n",
      "28       -1.389691             -1.389603   -1.389415  10.5  \n",
      "30       -1.322933             -1.223370   -1.189329  10.5  \n",
      "34       -2.385916             -1.983081   -1.555588  10.5  \n",
      "38       -1.768475             -1.783709   -1.767292  10.5  \n",
      "42       -3.489786             -2.675034   -2.213202  10.5  \n",
      "45       -5.576720             -4.346931   -3.804575  10.5  \n",
      "52       -3.180949             -3.091326   -2.753783  10.5  \n",
      "53       -2.824765             -2.627567   -2.647337  10.5  \n",
      "58       -1.492006             -1.376212   -1.355699  10.5  \n",
      "100      -6.965941             -6.584586   -5.932683  10.5  \n",
      "103      -1.052189             -0.987741   -0.851117  10.5  \n",
      "104      -3.248051             -3.141353   -3.653589  10.5  >\n"
     ]
    }
   ],
   "source": [
    "print(leadership_log)"
   ]
  }
 ],
 "metadata": {
  "kernelspec": {
   "display_name": ".venv",
   "language": "python",
   "name": "python3"
  },
  "language_info": {
   "codemirror_mode": {
    "name": "ipython",
    "version": 3
   },
   "file_extension": ".py",
   "mimetype": "text/x-python",
   "name": "python",
   "nbconvert_exporter": "python",
   "pygments_lexer": "ipython3",
   "version": "3.10.12"
  }
 },
 "nbformat": 4,
 "nbformat_minor": 2
}
