{
 "cells": [
  {
   "cell_type": "code",
   "execution_count": 1,
   "metadata": {},
   "outputs": [],
   "source": [
    "import os\n",
    "import sys\n",
    "import csv\n",
    "import logging\n",
    "import matplotlib.pyplot as plt\n",
    "from sklearn.model_selection import ShuffleSplit\n",
    "import seaborn as sns\n",
    "\n",
    "repo_root = os.path.abspath(os.path.join(os.getcwd(), '..', '..',))\n",
    "sys.path.append(repo_root)\n",
    "\n",
    "from src import *"
   ]
  },
  {
   "cell_type": "code",
   "execution_count": 2,
   "metadata": {},
   "outputs": [],
   "source": [
    "process_directory(1, os.getcwd(), 'ex03.1' , '03.1')\n",
    "process_directory(3, os.getcwd(), 'ex03.2' , '03.2')\n",
    "process_directory(4, os.getcwd(), 'ex03.3' , '03.3')\n",
    "process_directory(4, os.getcwd(), 'ex03.3' , '03.3')"
   ]
  }
 ],
 "metadata": {
  "kernelspec": {
   "display_name": ".venv",
   "language": "python",
   "name": "python3"
  },
  "language_info": {
   "codemirror_mode": {
    "name": "ipython",
    "version": 3
   },
   "file_extension": ".py",
   "mimetype": "text/x-python",
   "name": "python",
   "nbconvert_exporter": "python",
   "pygments_lexer": "ipython3",
   "version": "3.10.12"
  }
 },
 "nbformat": 4,
 "nbformat_minor": 2
}
