{
 "cells": [
  {
   "cell_type": "code",
   "execution_count": 9,
   "metadata": {},
   "outputs": [],
   "source": [
    "import os\n",
    "import sys\n",
    "import csv\n",
    "import seaborn as sns\n",
    "import matplotlib.pyplot as plt\n",
    "import pandas as pd\n",
    "import numpy as np\n",
    "\n",
    "repo_root = os.path.abspath(os.path.join(os.getcwd(), '..', '..'))\n",
    "sys.path.append(repo_root)\n",
    "\n",
    "from src.utils.file_handlers import read_file_parameters"
   ]
  },
  {
   "cell_type": "code",
   "execution_count": 22,
   "metadata": {},
   "outputs": [],
   "source": [
    "def file_handlers():\n",
    "    data_path = os.path.join(os.getcwd(), 'data')\n",
    "\n",
    "    all_results = []\n",
    "    for file in os.listdir(data_path):\n",
    "\n",
    "        id, _ = file.split('_data.csv')\n",
    "        if file.endswith('.csv'):\n",
    "      \n",
    "            \n",
    "            file_path = os.path.join(data_path, file)\n",
    "            df = pd.read_csv(file_path)\n",
    "            iteration = df['HO_iterations'].mean() \n",
    "            std = df['HO_iterations'].std()\n",
    "            log_like = df['HO_like'].mean()\n",
    "            result = {'dataset':id, \n",
    "                      'mean_iterations': iteration, \n",
    "                      'std_iterations': std,\n",
    "                      'mean_loglike': log_like\n",
    "                      }\n",
    "\n",
    "            all_results.append(result)\n",
    "\n",
    "    final_df = pd.DataFrame(all_results)\n",
    "    final_df['dataset'] = pd.to_numeric(final_df['dataset'], errors='coerce')\n",
    "    return final_df.sort_values(by='dataset')"
   ]
  },
  {
   "cell_type": "code",
   "execution_count": 23,
   "metadata": {},
   "outputs": [
    {
     "name": "stdout",
     "output_type": "stream",
     "text": [
      "   dataset  mean_iterations  std_iterations  mean_loglike\n",
      "3        9            11.40        0.680557    -38.974645\n",
      "5       14            33.00        2.247806    -82.161525\n",
      "2       28            12.10        0.552506     -9.841825\n",
      "4       45            68.80        4.652108 -18098.840000\n",
      "8       52           207.45       22.314675   -766.895350\n",
      "6      100            41.15        2.007224    -45.282695\n",
      "0      102            22.95        1.276302     -2.330986\n",
      "7      103            22.30        1.949359     -2.434329\n",
      "1      104            42.40        2.872739    -11.745974\n"
     ]
    }
   ],
   "source": [
    "df = file_handlers()\n",
    "print(df)"
   ]
  }
 ],
 "metadata": {
  "kernelspec": {
   "display_name": ".venv",
   "language": "python",
   "name": "python3"
  },
  "language_info": {
   "codemirror_mode": {
    "name": "ipython",
    "version": 3
   },
   "file_extension": ".py",
   "mimetype": "text/x-python",
   "name": "python",
   "nbconvert_exporter": "python",
   "pygments_lexer": "ipython3",
   "version": "3.10.12"
  }
 },
 "nbformat": 4,
 "nbformat_minor": 2
}
