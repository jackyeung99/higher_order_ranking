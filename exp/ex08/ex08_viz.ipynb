{
 "cells": [
  {
   "cell_type": "code",
   "execution_count": 1,
   "metadata": {},
   "outputs": [],
   "source": [
    "import os\n",
    "import sys\n",
    "import csv\n",
    "import seaborn as sns\n",
    "import matplotlib.pyplot as plt\n",
    "import pandas as pd\n",
    "import numpy as np\n",
    "\n",
    "repo_root = os.path.abspath(os.path.join(os.getcwd(), '..', '..'))\n",
    "sys.path.append(repo_root)\n",
    "\n",
    "from src.utils.file_handlers import read_file_parameters"
   ]
  },
  {
   "cell_type": "code",
   "execution_count": 2,
   "metadata": {},
   "outputs": [],
   "source": [
    "def file_handlers():\n",
    "    data_path = os.path.join(os.getcwd(), 'data')\n",
    "\n",
    "    all_results = []\n",
    "    for file in os.listdir(data_path):\n",
    "\n",
    "        id, _ = file.split('_data.csv')\n",
    "        if file.endswith('.csv'):\n",
    "      \n",
    "            \n",
    "            file_path = os.path.join(data_path, file)\n",
    "            df = pd.read_csv(file_path)\n",
    "\n",
    "\n",
    "\n",
    "            result = {\n",
    "                    'dataset':id, \n",
    "                    'avg_Ours': df['Ours'].mean(), \n",
    "                    'avg_Zermello': df['Zermello'].mean(),\n",
    "                    'higher_order_speedup': df['Zermello'].mean() / df['Ours'].mean(),\n",
    "\n",
    "                    'avg_Ours_bin': df['Ours_bin'].mean(),\n",
    "                    'avg_Zermello_bin' : df['Zermello_bin'].mean(),\n",
    "                    'binary_speedup': df['Zermello_bin'].mean() / df['Ours_bin'].mean()\n",
    "                      }\n",
    "\n",
    "            all_results.append(result)\n",
    "\n",
    "    final_df = pd.DataFrame(all_results)\n",
    "    final_df['dataset'] = pd.to_numeric(final_df['dataset'], errors='coerce')\n",
    "    return final_df.sort_values(by='dataset')"
   ]
  },
  {
   "cell_type": "code",
   "execution_count": 3,
   "metadata": {},
   "outputs": [
    {
     "data": {
      "text/html": [
       "<style type=\"text/css\">\n",
       "</style>\n",
       "<table id=\"T_e9ee7\">\n",
       "  <thead>\n",
       "    <tr>\n",
       "      <th id=\"T_e9ee7_level0_col0\" class=\"col_heading level0 col0\" >dataset</th>\n",
       "      <th id=\"T_e9ee7_level0_col1\" class=\"col_heading level0 col1\" >avg_Ours</th>\n",
       "      <th id=\"T_e9ee7_level0_col2\" class=\"col_heading level0 col2\" >avg_Zermello</th>\n",
       "      <th id=\"T_e9ee7_level0_col3\" class=\"col_heading level0 col3\" >higher_order_speedup</th>\n",
       "      <th id=\"T_e9ee7_level0_col4\" class=\"col_heading level0 col4\" >avg_Ours_bin</th>\n",
       "      <th id=\"T_e9ee7_level0_col5\" class=\"col_heading level0 col5\" >avg_Zermello_bin</th>\n",
       "      <th id=\"T_e9ee7_level0_col6\" class=\"col_heading level0 col6\" >binary_speedup</th>\n",
       "    </tr>\n",
       "  </thead>\n",
       "  <tbody>\n",
       "    <tr>\n",
       "      <td id=\"T_e9ee7_row0_col0\" class=\"data row0 col0\" >9</td>\n",
       "      <td id=\"T_e9ee7_row0_col1\" class=\"data row0 col1\" >8.000000</td>\n",
       "      <td id=\"T_e9ee7_row0_col2\" class=\"data row0 col2\" >638.000000</td>\n",
       "      <td id=\"T_e9ee7_row0_col3\" class=\"data row0 col3\" >79.750000</td>\n",
       "      <td id=\"T_e9ee7_row0_col4\" class=\"data row0 col4\" >7.000000</td>\n",
       "      <td id=\"T_e9ee7_row0_col5\" class=\"data row0 col5\" >3040.000000</td>\n",
       "      <td id=\"T_e9ee7_row0_col6\" class=\"data row0 col6\" >434.285714</td>\n",
       "    </tr>\n",
       "    <tr>\n",
       "      <td id=\"T_e9ee7_row1_col0\" class=\"data row1 col0\" >14</td>\n",
       "      <td id=\"T_e9ee7_row1_col1\" class=\"data row1 col1\" >24.000000</td>\n",
       "      <td id=\"T_e9ee7_row1_col2\" class=\"data row1 col2\" >35.000000</td>\n",
       "      <td id=\"T_e9ee7_row1_col3\" class=\"data row1 col3\" >1.458333</td>\n",
       "      <td id=\"T_e9ee7_row1_col4\" class=\"data row1 col4\" >24.000000</td>\n",
       "      <td id=\"T_e9ee7_row1_col5\" class=\"data row1 col5\" >105.000000</td>\n",
       "      <td id=\"T_e9ee7_row1_col6\" class=\"data row1 col6\" >4.375000</td>\n",
       "    </tr>\n",
       "    <tr>\n",
       "      <td id=\"T_e9ee7_row2_col0\" class=\"data row2 col0\" >28</td>\n",
       "      <td id=\"T_e9ee7_row2_col1\" class=\"data row2 col1\" >9.000000</td>\n",
       "      <td id=\"T_e9ee7_row2_col2\" class=\"data row2 col2\" >11.000000</td>\n",
       "      <td id=\"T_e9ee7_row2_col3\" class=\"data row2 col3\" >1.222222</td>\n",
       "      <td id=\"T_e9ee7_row2_col4\" class=\"data row2 col4\" >9.000000</td>\n",
       "      <td id=\"T_e9ee7_row2_col5\" class=\"data row2 col5\" >24.000000</td>\n",
       "      <td id=\"T_e9ee7_row2_col6\" class=\"data row2 col6\" >2.666667</td>\n",
       "    </tr>\n",
       "    <tr>\n",
       "      <td id=\"T_e9ee7_row3_col0\" class=\"data row3 col0\" >45</td>\n",
       "      <td id=\"T_e9ee7_row3_col1\" class=\"data row3 col1\" >54.000000</td>\n",
       "      <td id=\"T_e9ee7_row3_col2\" class=\"data row3 col2\" >58.000000</td>\n",
       "      <td id=\"T_e9ee7_row3_col3\" class=\"data row3 col3\" >1.074074</td>\n",
       "      <td id=\"T_e9ee7_row3_col4\" class=\"data row3 col4\" >60.000000</td>\n",
       "      <td id=\"T_e9ee7_row3_col5\" class=\"data row3 col5\" >551.000000</td>\n",
       "      <td id=\"T_e9ee7_row3_col6\" class=\"data row3 col6\" >9.183333</td>\n",
       "    </tr>\n",
       "    <tr>\n",
       "      <td id=\"T_e9ee7_row4_col0\" class=\"data row4 col0\" >52</td>\n",
       "      <td id=\"T_e9ee7_row4_col1\" class=\"data row4 col1\" >99.000000</td>\n",
       "      <td id=\"T_e9ee7_row4_col2\" class=\"data row4 col2\" >125.000000</td>\n",
       "      <td id=\"T_e9ee7_row4_col3\" class=\"data row4 col3\" >1.262626</td>\n",
       "      <td id=\"T_e9ee7_row4_col4\" class=\"data row4 col4\" >266.000000</td>\n",
       "      <td id=\"T_e9ee7_row4_col5\" class=\"data row4 col5\" >1044.000000</td>\n",
       "      <td id=\"T_e9ee7_row4_col6\" class=\"data row4 col6\" >3.924812</td>\n",
       "    </tr>\n",
       "    <tr>\n",
       "      <td id=\"T_e9ee7_row5_col0\" class=\"data row5 col0\" >100</td>\n",
       "      <td id=\"T_e9ee7_row5_col1\" class=\"data row5 col1\" >30.000000</td>\n",
       "      <td id=\"T_e9ee7_row5_col2\" class=\"data row5 col2\" >59.000000</td>\n",
       "      <td id=\"T_e9ee7_row5_col3\" class=\"data row5 col3\" >1.966667</td>\n",
       "      <td id=\"T_e9ee7_row5_col4\" class=\"data row5 col4\" >48.000000</td>\n",
       "      <td id=\"T_e9ee7_row5_col5\" class=\"data row5 col5\" >257.000000</td>\n",
       "      <td id=\"T_e9ee7_row5_col6\" class=\"data row5 col6\" >5.354167</td>\n",
       "    </tr>\n",
       "    <tr>\n",
       "      <td id=\"T_e9ee7_row6_col0\" class=\"data row6 col0\" >102</td>\n",
       "      <td id=\"T_e9ee7_row6_col1\" class=\"data row6 col1\" >17.000000</td>\n",
       "      <td id=\"T_e9ee7_row6_col2\" class=\"data row6 col2\" >63.000000</td>\n",
       "      <td id=\"T_e9ee7_row6_col3\" class=\"data row6 col3\" >3.705882</td>\n",
       "      <td id=\"T_e9ee7_row6_col4\" class=\"data row6 col4\" >16.000000</td>\n",
       "      <td id=\"T_e9ee7_row6_col5\" class=\"data row6 col5\" >127.000000</td>\n",
       "      <td id=\"T_e9ee7_row6_col6\" class=\"data row6 col6\" >7.937500</td>\n",
       "    </tr>\n",
       "    <tr>\n",
       "      <td id=\"T_e9ee7_row7_col0\" class=\"data row7 col0\" >103</td>\n",
       "      <td id=\"T_e9ee7_row7_col1\" class=\"data row7 col1\" >15.000000</td>\n",
       "      <td id=\"T_e9ee7_row7_col2\" class=\"data row7 col2\" >53.000000</td>\n",
       "      <td id=\"T_e9ee7_row7_col3\" class=\"data row7 col3\" >3.533333</td>\n",
       "      <td id=\"T_e9ee7_row7_col4\" class=\"data row7 col4\" >13.000000</td>\n",
       "      <td id=\"T_e9ee7_row7_col5\" class=\"data row7 col5\" >89.000000</td>\n",
       "      <td id=\"T_e9ee7_row7_col6\" class=\"data row7 col6\" >6.846154</td>\n",
       "    </tr>\n",
       "    <tr>\n",
       "      <td id=\"T_e9ee7_row8_col0\" class=\"data row8 col0\" >104</td>\n",
       "      <td id=\"T_e9ee7_row8_col1\" class=\"data row8 col1\" >28.000000</td>\n",
       "      <td id=\"T_e9ee7_row8_col2\" class=\"data row8 col2\" >91.000000</td>\n",
       "      <td id=\"T_e9ee7_row8_col3\" class=\"data row8 col3\" >3.250000</td>\n",
       "      <td id=\"T_e9ee7_row8_col4\" class=\"data row8 col4\" >48.000000</td>\n",
       "      <td id=\"T_e9ee7_row8_col5\" class=\"data row8 col5\" >396.000000</td>\n",
       "      <td id=\"T_e9ee7_row8_col6\" class=\"data row8 col6\" >8.250000</td>\n",
       "    </tr>\n",
       "  </tbody>\n",
       "</table>\n"
      ],
      "text/plain": [
       "<pandas.io.formats.style.Styler at 0x7f77be8039d0>"
      ]
     },
     "metadata": {},
     "output_type": "display_data"
    }
   ],
   "source": [
    "df = file_handlers()\n",
    "display(df.style.hide(axis='index'))"
   ]
  },
  {
   "cell_type": "code",
   "execution_count": 4,
   "metadata": {},
   "outputs": [
    {
     "data": {
      "image/png": "[encoded data removed]",
      "text/plain": [
       "<Figure size 640x480 with 1 Axes>"
      ]
     },
     "metadata": {},
     "output_type": "display_data"
    }
   ],
   "source": [
    "info_table = pd.read_csv(os.path.join(repo_root, 'datasets', 'dataset_info.csv'))\n",
    "merged_df = pd.merge(info_table, df, left_on='dataset_id', right_on='dataset')\n",
    "merged_df = merged_df[merged_df['dataset'] != 9]\n",
    "plt.title('Game Size compared to Speed Up')\n",
    "plt.scatter(merged_df['K_avg'], merged_df['higher_order_speedup'], label='Higher Order Speed Up')\n",
    "# plt.scatter(merged_df['M']/merged_df['N'], merged_df['binary_speedup'], c='red', label='Binary Speed Up')\n",
    "plt.xscale('log')\n",
    "plt.ylabel('Average Speed Up')\n",
    "plt.xlabel('Average Game Size')\n",
    "plt.legend()\n",
    "\n",
    "plt.show()\n"
   ]
  },
  {
   "cell_type": "code",
   "execution_count": null,
   "metadata": {},
   "outputs": [],
   "source": []
  }
 ],
 "metadata": {
  "kernelspec": {
   "display_name": ".venv",
   "language": "python",
   "name": "python3"
  },
  "language_info": {
   "codemirror_mode": {
    "name": "ipython",
    "version": 3
   },
   "file_extension": ".py",
   "mimetype": "text/x-python",
   "name": "python",
   "nbconvert_exporter": "python",
   "pygments_lexer": "ipython3",
   "version": "3.10.12"
  }
 },
 "nbformat": 4,
 "nbformat_minor": 2
}
