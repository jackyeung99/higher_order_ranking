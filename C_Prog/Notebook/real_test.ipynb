{
 "cells": [
  {
   "cell_type": "code",
   "execution_count": 213,
   "metadata": {},
   "outputs": [],
   "source": [
    "import matplotlib.pyplot as plt\n",
    "%matplotlib inline\n",
    "import subprocess\n",
    "import shlex\n",
    "import numpy as np"
   ]
  },
  {
   "cell_type": "code",
   "execution_count": 214,
   "metadata": {},
   "outputs": [],
   "source": [
    "def run_simulation (filein_idx, filein_data, model, ratio):\n",
    "    \n",
    "\n",
    "    command = '../Real_data/Readfile/bt_model_data.out ' + filein_idx + ' ' + filein_data + ' ' + str(model) + ' ' + str(ratio)\n",
    "#     print(shlex.split(command))\n",
    "\n",
    "    process = subprocess.Popen(shlex.split(command), stdout=subprocess.PIPE,stderr=subprocess.PIPE)\n",
    "    \n",
    "    ##parse output\n",
    "    output = process.communicate()[0].decode(\"utf-8\")\n",
    "\n",
    "    _, HO, HOL, BIN, iter = output.split(';;;')\n",
    "    results = {}\n",
    "    for label, category_output in zip(['HO', 'HOL', 'BIN'], [HO, HOL, BIN]):\n",
    "        category_output = category_output.split()\n",
    "        results[label] = {\n",
    "            'av_error': category_output[0],\n",
    "            'spearman': category_output[1],\n",
    "            'kendall': category_output[2],\n",
    "            'prior': category_output[3],\n",
    "            'HO_Like': category_output[4],\n",
    "            'HOL_Like': category_output[5],\n",
    "        }\n",
    "\n",
    "   \n",
    "    iter = iter.split() \n",
    "    results['HO']['iter'] = int(iter[0])\n",
    "    results['HOL']['iter'] = int(iter[1])\n",
    "    results['BIN']['iter'] = int(iter[2])\n",
    "    \n",
    "    return results"
   ]
  },
  {
   "cell_type": "code",
   "execution_count": 234,
   "metadata": {},
   "outputs": [
    {
     "name": "stdout",
     "output_type": "stream",
     "text": [
      "av_error: 0.339259\n",
      "spearman: 0.00224592\n",
      "kendall: 0.010285\n",
      "prior: -1.54816\n",
      "HO_Like: -5.31987\n",
      "HOL_Like: -0.644722\n",
      "iter: 15\n"
     ]
    }
   ],
   "source": [
    "filein_idx = '../../datasets/Real_Data/00103_nodes.txt'\n",
    "filein_data = '../../datasets/Real_Data/00103_edges.txt'\n",
    "\n",
    "\n",
    "T = 1000\n",
    "ratio = 0.995\n",
    "model = 1\n",
    "\n",
    "results = run_simulation(filein_idx, filein_data, model, ratio)\n",
    "\n",
    "for k, v in results['HO'].items():\n",
    "    print(f\"{k}: {v}\")"
   ]
  },
  {
   "cell_type": "code",
   "execution_count": null,
   "metadata": {},
   "outputs": [],
   "source": []
  }
 ],
 "metadata": {
  "kernelspec": {
   "display_name": ".venv",
   "language": "python",
   "name": "python3"
  },
  "language_info": {
   "codemirror_mode": {
    "name": "ipython",
    "version": 3
   },
   "file_extension": ".py",
   "mimetype": "text/x-python",
   "name": "python",
   "nbconvert_exporter": "python",
   "pygments_lexer": "ipython3",
   "version": "3.10.12"
  }
 },
 "nbformat": 4,
 "nbformat_minor": 2
}
