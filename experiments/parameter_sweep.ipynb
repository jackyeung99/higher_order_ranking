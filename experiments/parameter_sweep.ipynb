{
 "cells": [
  {
   "cell_type": "code",
   "execution_count": null,
   "metadata": {},
   "outputs": [],
   "source": []
  },
  {
   "cell_type": "code",
   "execution_count": null,
   "metadata": {},
   "outputs": [],
   "source": [
    "\n",
    "def test_M(N, M_values, K1, K2, filename):\n",
    "    for M in M_values:      \n",
    "        results = test_training_size(N, M, K1, K2, loss_measurement='rms')\n",
    "        save_results_to_csv(filename, results)\n",
    "\n",
    "def test_N(N_values, M, K1, K2, filename):\n",
    "    for N in N_values:\n",
    "        results = test_training_size(N, M, K1, K2, loss_measurement='rms')\n",
    "        save_results_to_csv(filename, results)\n",
    "\n",
    "def test_k_gap(N, M, K1, K2_values, filename):\n",
    "    for K2 in K2_values:\n",
    "        results = test_training_size(N, M, K1, K2, loss_measurement='rms')\n",
    "        save_results_to_csv(filename, results)\n",
    "\n",
    "def test_hyperedge_size(N, M, K_values, k_gap, filename):\n",
    "    for k in K_values:\n",
    "        K1 = k\n",
    "        K2 = k+k_gap\n",
    "        results = test_training_size(N, M, K1, K2, loss_measurement='rms')\n",
    "        save_results_to_csv(filename, results)"
   ]
  },
  {
   "cell_type": "code",
   "execution_count": null,
   "metadata": {},
   "outputs": [],
   "source": [
    "N = 500 \n",
    "M = 250 \n",
    "K1 = 2 \n",
    "K2 = 6\n",
    "filename = 'experiment_results.csv'\n",
    "\n",
    "# test M \n",
    "\n",
    "for _ in range(10): \n",
    "    m_test = range(100,10000,100)\n",
    "    test_M(N, m_test, K1, K2,filename)\n",
    "\n",
    "    K2_values = range(2, 20)\n",
    "    test_k_gap(N,M,K1, K2_values, filename)\n",
    "\n",
    "    K_values = range(2,15)\n",
    "    test_hyperedge_size(N, M, K_values, 2, filename)"
   ]
  },
  {
   "cell_type": "code",
   "execution_count": null,
   "metadata": {},
   "outputs": [],
   "source": [
    "experiment_results = pd.read_csv('experiment_results.csv')\n",
    "grouped_results = experiment_results.groupby(['N', 'M', 'K1', 'K2', 'train_size'])\n",
    "averaged_results = grouped_results[['graph_accuracy', 'hyper_graph_accuracy']].mean().reset_index()\n",
    "\n",
    "print(averaged_results)"
   ]
  }
 ],
 "metadata": {
  "language_info": {
   "name": "python"
  }
 },
 "nbformat": 4,
 "nbformat_minor": 2
}
