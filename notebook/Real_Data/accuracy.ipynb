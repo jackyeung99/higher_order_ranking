{
 "cells": [
  {
   "cell_type": "code",
   "execution_count": 2,
   "metadata": {},
   "outputs": [],
   "source": [
    "import matplotlib.pyplot as plt\n",
    "%matplotlib inline\n",
    "import subprocess\n",
    "import shlex\n",
    "import numpy as np\n",
    "import pandas as pd\n",
    "\n",
    "import os\n",
    "import sys\n",
    "\n",
    "import pandas as pd\n",
    "import matplotlib.pyplot as plt\n",
    "import matplotlib.cm as cm\n",
    "import matplotlib\n",
    "\n",
    "repo_root = os.path.abspath(os.path.join(os.getcwd(), '..', '..'))\n",
    "sys.path.append(repo_root)\n",
    "\n",
    "from sklearn.model_selection import train_test_split\n",
    "from src.utils.file_handlers import group_dataset_files, read_dataset_files\n",
    "from src.utils.operation_helpers import run_models, split_games\n",
    "from src.utils.c_operation_helpers import  run_simulation\n",
    "from src.utils.file_handlers import process_directory_real_data\n",
    "from src.models.BradleyTerry import compute_predicted_ratings_HOL_BT"
   ]
  },
  {
   "cell_type": "markdown",
   "metadata": {},
   "source": [
    "### Example"
   ]
  },
  {
   "cell_type": "markdown",
   "metadata": {},
   "source": [
    "Python"
   ]
  },
  {
   "cell_type": "code",
   "execution_count": 3,
   "metadata": {},
   "outputs": [
    {
     "name": "stdout",
     "output_type": "stream",
     "text": [
      "         model  log-likelihoods  leadership-log-likelihood\n",
      "0        HO_BT        -1.338036                  -0.772709\n",
      "1       HOL_BT        -1.349191                  -0.796616\n",
      "2          BIN        -1.360202                  -0.784017\n",
      "3         BINL        -1.373624                  -0.810707\n",
      "4  Spring_Rank        -1.379134                  -0.821936\n",
      "5    Page_Rank        -2.305316                  -1.344802\n",
      "6   Point_Wise        -1.802803                  -0.972088\n"
     ]
    }
   ],
   "source": [
    "data_dir = os.path.join(repo_root, 'datasets', 'Real_Data')\n",
    "grouped = group_dataset_files(data_dir)\n",
    "\n",
    "data, pi_values = read_dataset_files(grouped['00102'], data_dir, is_synthetic=False)\n",
    "\n",
    "train, test = train_test_split(data, train_size=.8)\n",
    "# train, test = split_games(data, .8)\n",
    "\n",
    "df = run_models(train, test, pi_values)\n",
    "print(df)\n",
    "\n"
   ]
  },
  {
   "cell_type": "markdown",
   "metadata": {},
   "source": [
    "C "
   ]
  },
  {
   "cell_type": "code",
   "execution_count": 4,
   "metadata": {},
   "outputs": [
    {
     "name": "stdout",
     "output_type": "stream",
     "text": [
      "  model  av_error    spearman     kendall     prior   HO_Like   HOL_Like  \\\n",
      "0    HO  0.336678   0.0612518   0.0440919  -1.55447  -1.33392  -0.747891   \n",
      "1   HOL   0.32949  0.00292864  0.00416723  -1.50343  -1.37821  -0.767421   \n",
      "2   BIN  0.346041   0.0495149   0.0415378  -1.58948  -1.32607  -0.738008   \n",
      "3  BINL  0.345981  -0.0245976  -0.0180132  -1.55388  -1.37372  -0.762296   \n",
      "\n",
      "  iterations  \n",
      "0         12  \n",
      "1         15  \n",
      "2         12  \n",
      "3         13  \n"
     ]
    }
   ],
   "source": [
    "data_dir = os.path.join(repo_root, 'datasets', 'Real_Data')\n",
    "grouped = group_dataset_files(data_dir)\n",
    "\n",
    "edge_file = grouped['00102']['edges']\n",
    "node_file = grouped['00102']['nodes']\n",
    "\n",
    "edge_path = os.path.join(data_dir, edge_file)\n",
    "node_path = os.path.join(data_dir, node_file)\n",
    "\n",
    "results = run_simulation(node_path, edge_path,ratio=.8, is_synthetic=0)\n",
    "print(results)"
   ]
  },
  {
   "cell_type": "markdown",
   "metadata": {},
   "source": [
    "### Full Results"
   ]
  },
  {
   "cell_type": "code",
   "execution_count": 5,
   "metadata": {},
   "outputs": [],
   "source": [
    "EXPERIMENT_PATH = os.path.join(repo_root, 'exp', 'ex04')\n",
    "os.chdir(EXPERIMENT_PATH)"
   ]
  },
  {
   "cell_type": "code",
   "execution_count": 6,
   "metadata": {},
   "outputs": [
    {
     "name": "stdout",
     "output_type": "stream",
     "text": [
      "/home/jackyeung99/senior_thesis/higher_order_ranking/exp/ex04\n"
     ]
    }
   ],
   "source": [
    "print(os.getcwd())"
   ]
  },
  {
   "cell_type": "code",
   "execution_count": 7,
   "metadata": {},
   "outputs": [],
   "source": [
    "process_directory_real_data(EXPERIMENT_PATH)"
   ]
  },
  {
   "cell_type": "code",
   "execution_count": 8,
   "metadata": {},
   "outputs": [],
   "source": [
    "\n",
    "\n",
    "def process_results():\n",
    "    # Read the summary CSV files\n",
    "    log_likelihood_df = pd.read_csv(os.path.join(EXPERIMENT_PATH, 'results', 'log_likelihood_summary.csv')).groupby(by=['dataset']).mean().reset_index()\n",
    "    leadership_log_likelihood_df = pd.read_csv(os.path.join(EXPERIMENT_PATH, 'results', 'leadership_log_likelihood_summary.csv')).groupby(by=['dataset']).mean().reset_index()\n",
    "\n",
    "    filtered_log_like = log_likelihood_df.drop(columns=['epoch'])\n",
    "    filtered_leader_like = leadership_log_likelihood_df.drop(columns=['epoch'])\n",
    "   \n",
    "    log_like = subtract_columns(filtered_log_like, 'HO_BT')\n",
    "    leadership_log = subtract_columns(filtered_leader_like, 'HOL_BT')\n",
    "\n",
    "\n",
    "    return log_like, leadership_log\n",
    "\n",
    "def subtract_columns(df, compared_col):\n",
    "    columns = df.columns.tolist()\n",
    "    # base_column = columns[[compared_col]] \n",
    "    for col in columns[1:]:\n",
    "        if col != compared_col:\n",
    "            df[col] = df[col] - df[compared_col] \n",
    "    df[[compared_col]] = 0.00\n",
    "    return df\n",
    "\n",
    "\n",
    "def visualize_df(df, title):\n",
    "    print(f\"\\n{title}\\n\")\n",
    "    styled_df = df.style.set_table_styles(\n",
    "    ).set_properties(**{\n",
    "        'background-color': 'LightGray',\n",
    "        'color': 'black',\n",
    "        'border-color': 'black',\n",
    "        'border-style': 'solid',\n",
    "        'border-width': '1px',\n",
    "        'text-align': 'left'\n",
    "    })\n",
    "    \n",
    "\n",
    "    # print(df.to_latex(escape=True))\n",
    "    display(styled_df)\n",
    "   "
   ]
  },
  {
   "cell_type": "code",
   "execution_count": 9,
   "metadata": {},
   "outputs": [
    {
     "name": "stdout",
     "output_type": "stream",
     "text": [
      "\n",
      "Datasets Tested\n",
      "\n"
     ]
    },
    {
     "data": {
      "text/html": [
       "<style type=\"text/css\">\n",
       "#T_80659_row0_col0, #T_80659_row0_col1, #T_80659_row0_col2, #T_80659_row0_col3, #T_80659_row0_col4, #T_80659_row0_col5, #T_80659_row0_col6, #T_80659_row1_col0, #T_80659_row1_col1, #T_80659_row1_col2, #T_80659_row1_col3, #T_80659_row1_col4, #T_80659_row1_col5, #T_80659_row1_col6 {\n",
       "  background-color: LightGray;\n",
       "  color: black;\n",
       "  border-color: black;\n",
       "  border-style: solid;\n",
       "  border-width: 1px;\n",
       "  text-align: left;\n",
       "}\n",
       "</style>\n",
       "<table id=\"T_80659\">\n",
       "  <thead>\n",
       "    <tr>\n",
       "      <th class=\"blank level0\" >&nbsp;</th>\n",
       "      <th id=\"T_80659_level0_col0\" class=\"col_heading level0 col0\" >Name</th>\n",
       "      <th id=\"T_80659_level0_col1\" class=\"col_heading level0 col1\" >N</th>\n",
       "      <th id=\"T_80659_level0_col2\" class=\"col_heading level0 col2\" >M</th>\n",
       "      <th id=\"T_80659_level0_col3\" class=\"col_heading level0 col3\" >R</th>\n",
       "      <th id=\"T_80659_level0_col4\" class=\"col_heading level0 col4\" >K1</th>\n",
       "      <th id=\"T_80659_level0_col5\" class=\"col_heading level0 col5\" >K2</th>\n",
       "      <th id=\"T_80659_level0_col6\" class=\"col_heading level0 col6\" >K_avg</th>\n",
       "    </tr>\n",
       "    <tr>\n",
       "      <th class=\"index_name level0\" >Dataset_ID</th>\n",
       "      <th class=\"blank col0\" >&nbsp;</th>\n",
       "      <th class=\"blank col1\" >&nbsp;</th>\n",
       "      <th class=\"blank col2\" >&nbsp;</th>\n",
       "      <th class=\"blank col3\" >&nbsp;</th>\n",
       "      <th class=\"blank col4\" >&nbsp;</th>\n",
       "      <th class=\"blank col5\" >&nbsp;</th>\n",
       "      <th class=\"blank col6\" >&nbsp;</th>\n",
       "    </tr>\n",
       "  </thead>\n",
       "  <tbody>\n",
       "    <tr>\n",
       "      <th id=\"T_80659_level0_row0\" class=\"row_heading level0 row0\" >106</th>\n",
       "      <td id=\"T_80659_row0_col0\" class=\"data row0 col0\" >letor</td>\n",
       "      <td id=\"T_80659_row0_col1\" class=\"data row0 col1\" >118</td>\n",
       "      <td id=\"T_80659_row0_col2\" class=\"data row0 col2\" >15592</td>\n",
       "      <td id=\"T_80659_row0_col3\" class=\"data row0 col3\" >132.136000</td>\n",
       "      <td id=\"T_80659_row0_col4\" class=\"data row0 col4\" >2</td>\n",
       "      <td id=\"T_80659_row0_col5\" class=\"data row0 col5\" >83</td>\n",
       "      <td id=\"T_80659_row0_col6\" class=\"data row0 col6\" >9.156000</td>\n",
       "    </tr>\n",
       "    <tr>\n",
       "      <th id=\"T_80659_level0_row1\" class=\"row_heading level0 row1\" >9</th>\n",
       "      <td id=\"T_80659_row1_col0\" class=\"data row1 col0\" >AGH_course_selection</td>\n",
       "      <td id=\"T_80659_row1_col1\" class=\"data row1 col1\" >9</td>\n",
       "      <td id=\"T_80659_row1_col2\" class=\"data row1 col2\" >299</td>\n",
       "      <td id=\"T_80659_row1_col3\" class=\"data row1 col3\" >33.222000</td>\n",
       "      <td id=\"T_80659_row1_col4\" class=\"data row1 col4\" >7</td>\n",
       "      <td id=\"T_80659_row1_col5\" class=\"data row1 col5\" >9</td>\n",
       "      <td id=\"T_80659_row1_col6\" class=\"data row1 col6\" >7.977000</td>\n",
       "    </tr>\n",
       "  </tbody>\n",
       "</table>\n"
      ],
      "text/plain": [
       "<pandas.io.formats.style.Styler at 0x7f607cd11720>"
      ]
     },
     "metadata": {},
     "output_type": "display_data"
    }
   ],
   "source": [
    "\n",
    "\n",
    "unique_datasets = pd.read_csv(os.path.join(os.getcwd(), 'results', 'log_likelihood_summary.csv'))['dataset'].unique()\n",
    "dataset_info = pd.read_csv(os.path.join(repo_root, 'datasets', 'dataset_info.csv'))\n",
    "filtered_dataset_info = dataset_info[dataset_info['Dataset_ID'].isin(unique_datasets)].set_index('Dataset_ID')\n",
    "\n",
    "# print(dataset_info)\n",
    "# domain_order = [\"Election\", \"Sport\", \"Preferences\", \"Other\"]\n",
    "# filtered_dataset_info['Domain'] = pd.Categorical(filtered_dataset_info['Domain'], categories=domain_order, ordered=True)\n",
    "\n",
    "filtered_dataset_info = filtered_dataset_info.sort_values(by=['K1', 'K2', 'R', 'Name'])\n",
    "visualize_df(filtered_dataset_info, 'Datasets Tested')"
   ]
  },
  {
   "cell_type": "code",
   "execution_count": 10,
   "metadata": {},
   "outputs": [],
   "source": [
    "log_like, leadership_log = process_results()\n",
    "\n",
    "def rename_df(df):\n",
    "    merged_df = df.merge(dataset_info, left_on='dataset', right_on='Dataset_ID').drop(columns=['Dataset_ID','dataset'])\n",
    "    # merged_df = merged_df.rename(columns={'Name': 'dataset_name'}).set_index('dataset_name')\n",
    "\n",
    "    domain_order = [\"Election\", \"Sport\", \"Preferences\", \"Other\"]\n",
    "    # merged_df['Domain'] = pd.Categorical(merged_df['Domain'], categories=domain_order, ordered=True)\n",
    "    merged_df = merged_df.sort_values(by=['K1', 'K2', 'Name'])\n",
    "    merged_df = merged_df[[ 'Name', 'HO_BT','HOL_BT', 'BIN', 'BINL', 'Spring_Rank', 'Page_Rank', 'Point_Wise']]\n",
    "\n",
    "    return merged_df"
   ]
  },
  {
   "cell_type": "code",
   "execution_count": 11,
   "metadata": {},
   "outputs": [
    {
     "name": "stdout",
     "output_type": "stream",
     "text": [
      "   dataset  HO_BT      HOL_BT       BIN        BINL  Spring_Rank  Page_Rank  \\\n",
      "0        9    0.0  -37.318206  0.172597  -37.579035   -38.727814 -18.441606   \n",
      "1      106    0.0 -174.314853  0.203217 -182.318222    -1.954173  -6.148737   \n",
      "\n",
      "   Point_Wise  \n",
      "0   -6.905505  \n",
      "1   -2.573224  \n"
     ]
    }
   ],
   "source": [
    "print(log_like)"
   ]
  },
  {
   "cell_type": "code",
   "execution_count": 12,
   "metadata": {},
   "outputs": [
    {
     "name": "stdout",
     "output_type": "stream",
     "text": [
      "\n",
      "log likelihood\n",
      "\n"
     ]
    },
    {
     "data": {
      "text/html": [
       "<style type=\"text/css\">\n",
       "#T_54bc1_row0_col0, #T_54bc1_row0_col1, #T_54bc1_row0_col2, #T_54bc1_row0_col3, #T_54bc1_row0_col4, #T_54bc1_row0_col5, #T_54bc1_row0_col6, #T_54bc1_row0_col7, #T_54bc1_row1_col0, #T_54bc1_row1_col1, #T_54bc1_row1_col2, #T_54bc1_row1_col3, #T_54bc1_row1_col4, #T_54bc1_row1_col5, #T_54bc1_row1_col6, #T_54bc1_row1_col7 {\n",
       "  background-color: LightGray;\n",
       "  color: black;\n",
       "  border-color: black;\n",
       "  border-style: solid;\n",
       "  border-width: 1px;\n",
       "  text-align: left;\n",
       "}\n",
       "</style>\n",
       "<table id=\"T_54bc1\">\n",
       "  <thead>\n",
       "    <tr>\n",
       "      <th class=\"blank level0\" >&nbsp;</th>\n",
       "      <th id=\"T_54bc1_level0_col0\" class=\"col_heading level0 col0\" >Name</th>\n",
       "      <th id=\"T_54bc1_level0_col1\" class=\"col_heading level0 col1\" >HO_BT</th>\n",
       "      <th id=\"T_54bc1_level0_col2\" class=\"col_heading level0 col2\" >HOL_BT</th>\n",
       "      <th id=\"T_54bc1_level0_col3\" class=\"col_heading level0 col3\" >BIN</th>\n",
       "      <th id=\"T_54bc1_level0_col4\" class=\"col_heading level0 col4\" >BINL</th>\n",
       "      <th id=\"T_54bc1_level0_col5\" class=\"col_heading level0 col5\" >Spring_Rank</th>\n",
       "      <th id=\"T_54bc1_level0_col6\" class=\"col_heading level0 col6\" >Page_Rank</th>\n",
       "      <th id=\"T_54bc1_level0_col7\" class=\"col_heading level0 col7\" >Point_Wise</th>\n",
       "    </tr>\n",
       "  </thead>\n",
       "  <tbody>\n",
       "    <tr>\n",
       "      <th id=\"T_54bc1_level0_row0\" class=\"row_heading level0 row0\" >1</th>\n",
       "      <td id=\"T_54bc1_row0_col0\" class=\"data row0 col0\" >letor</td>\n",
       "      <td id=\"T_54bc1_row0_col1\" class=\"data row0 col1\" >0.000000</td>\n",
       "      <td id=\"T_54bc1_row0_col2\" class=\"data row0 col2\" >-174.314853</td>\n",
       "      <td id=\"T_54bc1_row0_col3\" class=\"data row0 col3\" >0.203217</td>\n",
       "      <td id=\"T_54bc1_row0_col4\" class=\"data row0 col4\" >-182.318222</td>\n",
       "      <td id=\"T_54bc1_row0_col5\" class=\"data row0 col5\" >-1.954173</td>\n",
       "      <td id=\"T_54bc1_row0_col6\" class=\"data row0 col6\" >-6.148737</td>\n",
       "      <td id=\"T_54bc1_row0_col7\" class=\"data row0 col7\" >-2.573224</td>\n",
       "    </tr>\n",
       "    <tr>\n",
       "      <th id=\"T_54bc1_level0_row1\" class=\"row_heading level0 row1\" >0</th>\n",
       "      <td id=\"T_54bc1_row1_col0\" class=\"data row1 col0\" >AGH_course_selection</td>\n",
       "      <td id=\"T_54bc1_row1_col1\" class=\"data row1 col1\" >0.000000</td>\n",
       "      <td id=\"T_54bc1_row1_col2\" class=\"data row1 col2\" >-37.318206</td>\n",
       "      <td id=\"T_54bc1_row1_col3\" class=\"data row1 col3\" >0.172597</td>\n",
       "      <td id=\"T_54bc1_row1_col4\" class=\"data row1 col4\" >-37.579035</td>\n",
       "      <td id=\"T_54bc1_row1_col5\" class=\"data row1 col5\" >-38.727814</td>\n",
       "      <td id=\"T_54bc1_row1_col6\" class=\"data row1 col6\" >-18.441606</td>\n",
       "      <td id=\"T_54bc1_row1_col7\" class=\"data row1 col7\" >-6.905505</td>\n",
       "    </tr>\n",
       "  </tbody>\n",
       "</table>\n"
      ],
      "text/plain": [
       "<pandas.io.formats.style.Styler at 0x7f6084bcbf40>"
      ]
     },
     "metadata": {},
     "output_type": "display_data"
    }
   ],
   "source": [
    "\n",
    "log_like = rename_df(log_like)\n",
    "visualize_df(log_like, 'log likelihood')"
   ]
  },
  {
   "cell_type": "code",
   "execution_count": 13,
   "metadata": {},
   "outputs": [
    {
     "name": "stdout",
     "output_type": "stream",
     "text": [
      "\n",
      "Leadership log likelihood\n",
      "\n"
     ]
    },
    {
     "data": {
      "text/html": [
       "<style type=\"text/css\">\n",
       "#T_02188_row0_col0, #T_02188_row0_col1, #T_02188_row0_col2, #T_02188_row0_col3, #T_02188_row0_col4, #T_02188_row0_col5, #T_02188_row0_col6, #T_02188_row0_col7, #T_02188_row1_col0, #T_02188_row1_col1, #T_02188_row1_col2, #T_02188_row1_col3, #T_02188_row1_col4, #T_02188_row1_col5, #T_02188_row1_col6, #T_02188_row1_col7 {\n",
       "  background-color: LightGray;\n",
       "  color: black;\n",
       "  border-color: black;\n",
       "  border-style: solid;\n",
       "  border-width: 1px;\n",
       "  text-align: left;\n",
       "}\n",
       "</style>\n",
       "<table id=\"T_02188\">\n",
       "  <thead>\n",
       "    <tr>\n",
       "      <th class=\"blank level0\" >&nbsp;</th>\n",
       "      <th id=\"T_02188_level0_col0\" class=\"col_heading level0 col0\" >Name</th>\n",
       "      <th id=\"T_02188_level0_col1\" class=\"col_heading level0 col1\" >HO_BT</th>\n",
       "      <th id=\"T_02188_level0_col2\" class=\"col_heading level0 col2\" >HOL_BT</th>\n",
       "      <th id=\"T_02188_level0_col3\" class=\"col_heading level0 col3\" >BIN</th>\n",
       "      <th id=\"T_02188_level0_col4\" class=\"col_heading level0 col4\" >BINL</th>\n",
       "      <th id=\"T_02188_level0_col5\" class=\"col_heading level0 col5\" >Spring_Rank</th>\n",
       "      <th id=\"T_02188_level0_col6\" class=\"col_heading level0 col6\" >Page_Rank</th>\n",
       "      <th id=\"T_02188_level0_col7\" class=\"col_heading level0 col7\" >Point_Wise</th>\n",
       "    </tr>\n",
       "  </thead>\n",
       "  <tbody>\n",
       "    <tr>\n",
       "      <th id=\"T_02188_level0_row0\" class=\"row_heading level0 row0\" >1</th>\n",
       "      <td id=\"T_02188_row0_col0\" class=\"data row0 col0\" >letor</td>\n",
       "      <td id=\"T_02188_row0_col1\" class=\"data row0 col1\" >-0.773957</td>\n",
       "      <td id=\"T_02188_row0_col2\" class=\"data row0 col2\" >0.000000</td>\n",
       "      <td id=\"T_02188_row0_col3\" class=\"data row0 col3\" >-0.659660</td>\n",
       "      <td id=\"T_02188_row0_col4\" class=\"data row0 col4\" >0.000089</td>\n",
       "      <td id=\"T_02188_row0_col5\" class=\"data row0 col5\" >-0.886226</td>\n",
       "      <td id=\"T_02188_row0_col6\" class=\"data row0 col6\" >-1.542278</td>\n",
       "      <td id=\"T_02188_row0_col7\" class=\"data row0 col7\" >-1.174041</td>\n",
       "    </tr>\n",
       "    <tr>\n",
       "      <th id=\"T_02188_level0_row1\" class=\"row_heading level0 row1\" >0</th>\n",
       "      <td id=\"T_02188_row1_col0\" class=\"data row1 col0\" >AGH_course_selection</td>\n",
       "      <td id=\"T_02188_row1_col1\" class=\"data row1 col1\" >-0.839617</td>\n",
       "      <td id=\"T_02188_row1_col2\" class=\"data row1 col2\" >0.000000</td>\n",
       "      <td id=\"T_02188_row1_col3\" class=\"data row1 col3\" >-0.763094</td>\n",
       "      <td id=\"T_02188_row1_col4\" class=\"data row1 col4\" >0.000229</td>\n",
       "      <td id=\"T_02188_row1_col5\" class=\"data row1 col5\" >-1.327989</td>\n",
       "      <td id=\"T_02188_row1_col6\" class=\"data row1 col6\" >-2.998331</td>\n",
       "      <td id=\"T_02188_row1_col7\" class=\"data row1 col7\" >-1.662018</td>\n",
       "    </tr>\n",
       "  </tbody>\n",
       "</table>\n"
      ],
      "text/plain": [
       "<pandas.io.formats.style.Styler at 0x7f607cd126b0>"
      ]
     },
     "metadata": {},
     "output_type": "display_data"
    }
   ],
   "source": [
    "leadership_log = rename_df(leadership_log)\n",
    "visualize_df(leadership_log, 'Leadership log likelihood')"
   ]
  },
  {
   "cell_type": "code",
   "execution_count": 14,
   "metadata": {},
   "outputs": [
    {
     "data": {
      "text/html": [
       "<style type=\"text/css\">\n",
       "#T_c02dc_row0_col3, #T_c02dc_row1_col3 {\n",
       "  background-color: grey;\n",
       "}\n",
       "</style>\n",
       "<table id=\"T_c02dc\">\n",
       "  <thead>\n",
       "    <tr>\n",
       "      <th class=\"blank level0\" >&nbsp;</th>\n",
       "      <th id=\"T_c02dc_level0_col0\" class=\"col_heading level0 col0\" >dataset</th>\n",
       "      <th id=\"T_c02dc_level0_col1\" class=\"col_heading level0 col1\" >HO_BT</th>\n",
       "      <th id=\"T_c02dc_level0_col2\" class=\"col_heading level0 col2\" >HOL_BT</th>\n",
       "      <th id=\"T_c02dc_level0_col3\" class=\"col_heading level0 col3\" >BIN</th>\n",
       "      <th id=\"T_c02dc_level0_col4\" class=\"col_heading level0 col4\" >BINL</th>\n",
       "      <th id=\"T_c02dc_level0_col5\" class=\"col_heading level0 col5\" >Spring_Rank</th>\n",
       "      <th id=\"T_c02dc_level0_col6\" class=\"col_heading level0 col6\" >Page_Rank</th>\n",
       "      <th id=\"T_c02dc_level0_col7\" class=\"col_heading level0 col7\" >Point_Wise</th>\n",
       "    </tr>\n",
       "  </thead>\n",
       "  <tbody>\n",
       "    <tr>\n",
       "      <th id=\"T_c02dc_level0_row0\" class=\"row_heading level0 row0\" >0</th>\n",
       "      <td id=\"T_c02dc_row0_col0\" class=\"data row0 col0\" >9</td>\n",
       "      <td id=\"T_c02dc_row0_col1\" class=\"data row0 col1\" >-39.177380</td>\n",
       "      <td id=\"T_c02dc_row0_col2\" class=\"data row0 col2\" >-76.495586</td>\n",
       "      <td id=\"T_c02dc_row0_col3\" class=\"data row0 col3\" >-39.004783</td>\n",
       "      <td id=\"T_c02dc_row0_col4\" class=\"data row0 col4\" >-76.756415</td>\n",
       "      <td id=\"T_c02dc_row0_col5\" class=\"data row0 col5\" >-77.905194</td>\n",
       "      <td id=\"T_c02dc_row0_col6\" class=\"data row0 col6\" >-57.618986</td>\n",
       "      <td id=\"T_c02dc_row0_col7\" class=\"data row0 col7\" >-46.082885</td>\n",
       "    </tr>\n",
       "    <tr>\n",
       "      <th id=\"T_c02dc_level0_row1\" class=\"row_heading level0 row1\" >1</th>\n",
       "      <td id=\"T_c02dc_row1_col0\" class=\"data row1 col0\" >106</td>\n",
       "      <td id=\"T_c02dc_row1_col1\" class=\"data row1 col1\" >-248.103393</td>\n",
       "      <td id=\"T_c02dc_row1_col2\" class=\"data row1 col2\" >-422.418245</td>\n",
       "      <td id=\"T_c02dc_row1_col3\" class=\"data row1 col3\" >-247.900176</td>\n",
       "      <td id=\"T_c02dc_row1_col4\" class=\"data row1 col4\" >-430.421615</td>\n",
       "      <td id=\"T_c02dc_row1_col5\" class=\"data row1 col5\" >-250.057565</td>\n",
       "      <td id=\"T_c02dc_row1_col6\" class=\"data row1 col6\" >-254.252130</td>\n",
       "      <td id=\"T_c02dc_row1_col7\" class=\"data row1 col7\" >-250.676617</td>\n",
       "    </tr>\n",
       "  </tbody>\n",
       "</table>\n"
      ],
      "text/plain": [
       "<pandas.io.formats.style.Styler at 0x7f60f149f700>"
      ]
     },
     "execution_count": 14,
     "metadata": {},
     "output_type": "execute_result"
    }
   ],
   "source": [
    "log_likelihood_df = (\n",
    "    pd.read_csv(os.path.join(EXPERIMENT_PATH, 'results', 'log_likelihood_summary.csv'))\n",
    "    .groupby(by=['dataset'])\n",
    "    .mean()\n",
    "    .reset_index()\n",
    "    .drop(columns=['epoch'])\n",
    ")\n",
    "\n",
    "log_likelihood_df.style.highlight_max(axis=1, color='grey', subset=log_likelihood_df.columns.difference(['dataset']))"
   ]
  },
  {
   "cell_type": "code",
   "execution_count": 15,
   "metadata": {},
   "outputs": [
    {
     "data": {
      "text/html": [
       "<style type=\"text/css\">\n",
       "#T_41862_row0_col4, #T_41862_row1_col4 {\n",
       "  background-color: grey;\n",
       "}\n",
       "</style>\n",
       "<table id=\"T_41862\">\n",
       "  <thead>\n",
       "    <tr>\n",
       "      <th class=\"blank level0\" >&nbsp;</th>\n",
       "      <th id=\"T_41862_level0_col0\" class=\"col_heading level0 col0\" >dataset</th>\n",
       "      <th id=\"T_41862_level0_col1\" class=\"col_heading level0 col1\" >HO_BT</th>\n",
       "      <th id=\"T_41862_level0_col2\" class=\"col_heading level0 col2\" >HOL_BT</th>\n",
       "      <th id=\"T_41862_level0_col3\" class=\"col_heading level0 col3\" >BIN</th>\n",
       "      <th id=\"T_41862_level0_col4\" class=\"col_heading level0 col4\" >BINL</th>\n",
       "      <th id=\"T_41862_level0_col5\" class=\"col_heading level0 col5\" >Spring_Rank</th>\n",
       "      <th id=\"T_41862_level0_col6\" class=\"col_heading level0 col6\" >Page_Rank</th>\n",
       "      <th id=\"T_41862_level0_col7\" class=\"col_heading level0 col7\" >Point_Wise</th>\n",
       "    </tr>\n",
       "  </thead>\n",
       "  <tbody>\n",
       "    <tr>\n",
       "      <th id=\"T_41862_level0_row0\" class=\"row_heading level0 row0\" >0</th>\n",
       "      <td id=\"T_41862_row0_col0\" class=\"data row0 col0\" >9</td>\n",
       "      <td id=\"T_41862_row0_col1\" class=\"data row0 col1\" >-0.854252</td>\n",
       "      <td id=\"T_41862_row0_col2\" class=\"data row0 col2\" >-0.014635</td>\n",
       "      <td id=\"T_41862_row0_col3\" class=\"data row0 col3\" >-0.777729</td>\n",
       "      <td id=\"T_41862_row0_col4\" class=\"data row0 col4\" >-0.014406</td>\n",
       "      <td id=\"T_41862_row0_col5\" class=\"data row0 col5\" >-1.342624</td>\n",
       "      <td id=\"T_41862_row0_col6\" class=\"data row0 col6\" >-3.012966</td>\n",
       "      <td id=\"T_41862_row0_col7\" class=\"data row0 col7\" >-1.676653</td>\n",
       "    </tr>\n",
       "    <tr>\n",
       "      <th id=\"T_41862_level0_row1\" class=\"row_heading level0 row1\" >1</th>\n",
       "      <td id=\"T_41862_row1_col0\" class=\"data row1 col0\" >106</td>\n",
       "      <td id=\"T_41862_row1_col1\" class=\"data row1 col1\" >-1.131794</td>\n",
       "      <td id=\"T_41862_row1_col2\" class=\"data row1 col2\" >-0.357837</td>\n",
       "      <td id=\"T_41862_row1_col3\" class=\"data row1 col3\" >-1.017497</td>\n",
       "      <td id=\"T_41862_row1_col4\" class=\"data row1 col4\" >-0.357747</td>\n",
       "      <td id=\"T_41862_row1_col5\" class=\"data row1 col5\" >-1.244063</td>\n",
       "      <td id=\"T_41862_row1_col6\" class=\"data row1 col6\" >-1.900115</td>\n",
       "      <td id=\"T_41862_row1_col7\" class=\"data row1 col7\" >-1.531877</td>\n",
       "    </tr>\n",
       "  </tbody>\n",
       "</table>\n"
      ],
      "text/plain": [
       "<pandas.io.formats.style.Styler at 0x7f607cd101c0>"
      ]
     },
     "execution_count": 15,
     "metadata": {},
     "output_type": "execute_result"
    }
   ],
   "source": [
    "log_likelihood_df = (\n",
    "    pd.read_csv(os.path.join(EXPERIMENT_PATH, 'results', 'leadership_log_likelihood_summary.csv'))\n",
    "    .groupby(by=['dataset'])\n",
    "    .mean()\n",
    "    .reset_index()\n",
    "    .drop(columns=['epoch'])\n",
    ")\n",
    "\n",
    "log_likelihood_df.style.highlight_max(axis=1, color='grey', subset=log_likelihood_df.columns.difference(['dataset']))"
   ]
  },
  {
   "cell_type": "code",
   "execution_count": null,
   "metadata": {},
   "outputs": [],
   "source": []
  }
 ],
 "metadata": {
  "kernelspec": {
   "display_name": ".venv",
   "language": "python",
   "name": "python3"
  },
  "language_info": {
   "codemirror_mode": {
    "name": "ipython",
    "version": 3
   },
   "file_extension": ".py",
   "mimetype": "text/x-python",
   "name": "python",
   "nbconvert_exporter": "python",
   "pygments_lexer": "ipython3",
   "version": "3.10.12"
  }
 },
 "nbformat": 4,
 "nbformat_minor": 2
}
