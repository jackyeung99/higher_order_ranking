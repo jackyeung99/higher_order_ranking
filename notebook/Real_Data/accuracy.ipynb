{
 "cells": [
  {
   "cell_type": "code",
   "execution_count": 67,
   "metadata": {},
   "outputs": [],
   "source": [
    "import matplotlib.pyplot as plt\n",
    "%matplotlib inline\n",
    "import subprocess\n",
    "import shlex\n",
    "import numpy as np\n",
    "import pandas as pd\n",
    "\n",
    "import os\n",
    "import sys\n",
    "\n",
    "import pandas as pd\n",
    "import matplotlib.pyplot as plt\n",
    "import matplotlib.cm as cm\n",
    "import matplotlib\n",
    "\n",
    "repo_root = os.path.abspath(os.path.join(os.getcwd(), '..', '..'))\n",
    "sys.path.append(repo_root)\n",
    "\n",
    "from src.utils.file_handlers import group_dataset_files, read_dataset_files\n",
    "from src.utils.operation_helpers import run_models, split_games\n",
    "from src.utils.c_operation_helpers import  run_simulation\n",
    "from src.utils.file_handlers import process_directory_real_data"
   ]
  },
  {
   "cell_type": "markdown",
   "metadata": {},
   "source": [
    "### Example"
   ]
  },
  {
   "cell_type": "markdown",
   "metadata": {},
   "source": [
    "Python"
   ]
  },
  {
   "cell_type": "code",
   "execution_count": 68,
   "metadata": {},
   "outputs": [
    {
     "name": "stdout",
     "output_type": "stream",
     "text": [
      "         model  log-likelihoods  leadership-log-likelihood\n",
      "0        HO_BT        -2.744749                  -0.832101\n",
      "1       HOL_BT        -2.742304                  -0.823259\n",
      "2          BIN        -2.792092                  -0.843856\n",
      "3         BINL        -2.789306                  -0.837696\n",
      "4  Spring_Rank        -2.887182                  -0.849661\n",
      "5    Page_Rank        -3.827274                  -1.095218\n",
      "6   Point_Wise        -2.922654                  -0.844673\n"
     ]
    }
   ],
   "source": [
    "data_dir = os.path.join(repo_root, 'datasets', 'Real_Data')\n",
    "grouped = group_dataset_files(data_dir)\n",
    "\n",
    "data, pi_values = read_dataset_files(grouped['00103'], data_dir, is_synthetic=False)\n",
    "\n",
    "# train, test = train_test_split(data, train_size=.8)\n",
    "train, test = split_games(data, .8)\n",
    "\n",
    "df = run_models(train, test, pi_values)\n",
    "print(df)\n"
   ]
  },
  {
   "cell_type": "markdown",
   "metadata": {},
   "source": [
    "C "
   ]
  },
  {
   "cell_type": "code",
   "execution_count": 69,
   "metadata": {},
   "outputs": [
    {
     "name": "stdout",
     "output_type": "stream",
     "text": [
      "/home/jackyeung99/senior_thesis/higher_order_ranking/datasets/Real_Data/00103_edges.txt\n",
      "/home/jackyeung99/senior_thesis/higher_order_ranking/datasets/Real_Data/00103_nodes.txt\n",
      "  model  av_error    spearman     kendall     prior   HO_Like   HOL_Like  \\\n",
      "0    HO  0.343786    0.129006    0.076697   -1.5618  -2.82652   -0.83498   \n",
      "1   HOL  0.344067  -0.0413226  -0.0320306  -1.49698  -2.93079  -0.845838   \n",
      "2   BIN  0.351847    0.130627   0.0743462    -1.595  -2.87615   -0.84819   \n",
      "3  BINL  0.359405  -0.0248399  -0.0202762   -1.5568  -3.05076  -0.878658   \n",
      "\n",
      "  iterations  \n",
      "0         10  \n",
      "1         10  \n",
      "2          9  \n",
      "3         10  \n"
     ]
    }
   ],
   "source": [
    "data_dir = os.path.join(repo_root, 'datasets', 'Real_Data')\n",
    "grouped = group_dataset_files(data_dir)\n",
    "\n",
    "edge_file = grouped['00103']['edges']\n",
    "node_file = grouped['00103']['nodes']\n",
    "\n",
    "edge_path = os.path.join(data_dir, edge_file)\n",
    "node_path = os.path.join(data_dir, node_file)\n",
    "\n",
    "print(edge_path)\n",
    "print(node_path)\n",
    "\n",
    "results = run_simulation(node_path, edge_path, is_synthetic=0)\n",
    "print(results)"
   ]
  },
  {
   "cell_type": "markdown",
   "metadata": {},
   "source": [
    "### Full Results"
   ]
  },
  {
   "cell_type": "code",
   "execution_count": 70,
   "metadata": {},
   "outputs": [],
   "source": [
    "EXPERIMENT_PATH = os.path.join(repo_root, 'exp', 'ex04')\n",
    "os.chdir(EXPERIMENT_PATH)"
   ]
  },
  {
   "cell_type": "code",
   "execution_count": 71,
   "metadata": {},
   "outputs": [
    {
     "name": "stdout",
     "output_type": "stream",
     "text": [
      "/home/jackyeung99/senior_thesis/higher_order_ranking/exp/ex04\n"
     ]
    }
   ],
   "source": [
    "print(os.getcwd())"
   ]
  },
  {
   "cell_type": "code",
   "execution_count": 72,
   "metadata": {},
   "outputs": [],
   "source": [
    "process_directory_real_data(EXPERIMENT_PATH)"
   ]
  },
  {
   "cell_type": "code",
   "execution_count": 73,
   "metadata": {},
   "outputs": [],
   "source": [
    "\n",
    "\n",
    "def process_results():\n",
    "    # Read the summary CSV files\n",
    "    log_likelihood_df = pd.read_csv(os.path.join(EXPERIMENT_PATH, 'results', 'log_likelihood_summary.csv')).groupby(by=['dataset']).mean().reset_index()\n",
    "    leadership_log_likelihood_df = pd.read_csv(os.path.join(EXPERIMENT_PATH, 'results', 'leadership_log_likelihood_summary.csv')).groupby(by=['dataset']).mean().reset_index()\n",
    "\n",
    "    filtered_log_like = log_likelihood_df.drop(columns=['epoch'])\n",
    "    filtered_leader_like = leadership_log_likelihood_df.drop(columns=['epoch'])\n",
    "    \n",
    "    log_like = subtract_columns(filtered_log_like, 1)\n",
    "    leadership_log = subtract_columns(filtered_leader_like, 2)\n",
    "\n",
    "    return log_like, leadership_log\n",
    "\n",
    "def subtract_columns(df, compared_col):\n",
    "    columns = df.columns.tolist()\n",
    "    base_column = columns[compared_col] \n",
    "    print(base_column)\n",
    "    for col in columns[1:]:\n",
    "        \n",
    "        df[col] = df[col] - df[base_column] \n",
    "    \n",
    "    return df\n",
    "\n",
    "\n",
    "def visualize_df(df, title):\n",
    "    print(f\"\\n{title}\\n\")\n",
    "    styled_df = df.style.set_table_styles(\n",
    "    ).set_properties(**{\n",
    "        'background-color': 'LightGray',\n",
    "        'color': 'black',\n",
    "        'border-color': 'black',\n",
    "        'border-style': 'solid',\n",
    "        'border-width': '1px',\n",
    "        'text-align': 'left'\n",
    "    })\n",
    "    \n",
    "\n",
    "    # print(df.to_latex(escape=True))\n",
    "    display(styled_df)\n",
    "   "
   ]
  },
  {
   "cell_type": "code",
   "execution_count": 74,
   "metadata": {},
   "outputs": [
    {
     "name": "stdout",
     "output_type": "stream",
     "text": [
      "\n",
      "Datasets Tested\n",
      "\n"
     ]
    },
    {
     "data": {
      "text/html": [
       "<style type=\"text/css\">\n",
       "#T_99009_row0_col0, #T_99009_row0_col1, #T_99009_row0_col2, #T_99009_row0_col3, #T_99009_row0_col4, #T_99009_row0_col5, #T_99009_row0_col6, #T_99009_row1_col0, #T_99009_row1_col1, #T_99009_row1_col2, #T_99009_row1_col3, #T_99009_row1_col4, #T_99009_row1_col5, #T_99009_row1_col6, #T_99009_row2_col0, #T_99009_row2_col1, #T_99009_row2_col2, #T_99009_row2_col3, #T_99009_row2_col4, #T_99009_row2_col5, #T_99009_row2_col6 {\n",
       "  background-color: LightGray;\n",
       "  color: black;\n",
       "  border-color: black;\n",
       "  border-style: solid;\n",
       "  border-width: 1px;\n",
       "  text-align: left;\n",
       "}\n",
       "</style>\n",
       "<table id=\"T_99009\">\n",
       "  <thead>\n",
       "    <tr>\n",
       "      <th class=\"blank level0\" >&nbsp;</th>\n",
       "      <th id=\"T_99009_level0_col0\" class=\"col_heading level0 col0\" >Name</th>\n",
       "      <th id=\"T_99009_level0_col1\" class=\"col_heading level0 col1\" >N</th>\n",
       "      <th id=\"T_99009_level0_col2\" class=\"col_heading level0 col2\" >M</th>\n",
       "      <th id=\"T_99009_level0_col3\" class=\"col_heading level0 col3\" >R</th>\n",
       "      <th id=\"T_99009_level0_col4\" class=\"col_heading level0 col4\" >K1</th>\n",
       "      <th id=\"T_99009_level0_col5\" class=\"col_heading level0 col5\" >K2</th>\n",
       "      <th id=\"T_99009_level0_col6\" class=\"col_heading level0 col6\" >K_avg</th>\n",
       "    </tr>\n",
       "    <tr>\n",
       "      <th class=\"index_name level0\" >Dataset_ID</th>\n",
       "      <th class=\"blank col0\" >&nbsp;</th>\n",
       "      <th class=\"blank col1\" >&nbsp;</th>\n",
       "      <th class=\"blank col2\" >&nbsp;</th>\n",
       "      <th class=\"blank col3\" >&nbsp;</th>\n",
       "      <th class=\"blank col4\" >&nbsp;</th>\n",
       "      <th class=\"blank col5\" >&nbsp;</th>\n",
       "      <th class=\"blank col6\" >&nbsp;</th>\n",
       "    </tr>\n",
       "  </thead>\n",
       "  <tbody>\n",
       "    <tr>\n",
       "      <th id=\"T_99009_level0_row0\" class=\"row_heading level0 row0\" >28</th>\n",
       "      <td id=\"T_99009_row0_col0\" class=\"data row0 col0\" >APA_election</td>\n",
       "      <td id=\"T_99009_row0_col1\" class=\"data row0 col1\" >5</td>\n",
       "      <td id=\"T_99009_row0_col2\" class=\"data row0 col2\" >203896</td>\n",
       "      <td id=\"T_99009_row0_col3\" class=\"data row0 col3\" >40779.200000</td>\n",
       "      <td id=\"T_99009_row0_col4\" class=\"data row0 col4\" >1</td>\n",
       "      <td id=\"T_99009_row0_col5\" class=\"data row0 col5\" >5</td>\n",
       "      <td id=\"T_99009_row0_col6\" class=\"data row0 col6\" >3.637000</td>\n",
       "    </tr>\n",
       "    <tr>\n",
       "      <th id=\"T_99009_level0_row1\" class=\"row_heading level0 row1\" >9</th>\n",
       "      <td id=\"T_99009_row1_col0\" class=\"data row1 col0\" >AGH_course_selection</td>\n",
       "      <td id=\"T_99009_row1_col1\" class=\"data row1 col1\" >9</td>\n",
       "      <td id=\"T_99009_row1_col2\" class=\"data row1 col2\" >299</td>\n",
       "      <td id=\"T_99009_row1_col3\" class=\"data row1 col3\" >33.222000</td>\n",
       "      <td id=\"T_99009_row1_col4\" class=\"data row1 col4\" >7</td>\n",
       "      <td id=\"T_99009_row1_col5\" class=\"data row1 col5\" >9</td>\n",
       "      <td id=\"T_99009_row1_col6\" class=\"data row1 col6\" >7.977000</td>\n",
       "    </tr>\n",
       "    <tr>\n",
       "      <th id=\"T_99009_level0_row2\" class=\"row_heading level0 row2\" >14</th>\n",
       "      <td id=\"T_99009_row2_col0\" class=\"data row2 col0\" >sushi</td>\n",
       "      <td id=\"T_99009_row2_col1\" class=\"data row2 col1\" >102</td>\n",
       "      <td id=\"T_99009_row2_col2\" class=\"data row2 col2\" >10000</td>\n",
       "      <td id=\"T_99009_row2_col3\" class=\"data row2 col3\" >98.039000</td>\n",
       "      <td id=\"T_99009_row2_col4\" class=\"data row2 col4\" >10</td>\n",
       "      <td id=\"T_99009_row2_col5\" class=\"data row2 col5\" >10</td>\n",
       "      <td id=\"T_99009_row2_col6\" class=\"data row2 col6\" >10.000000</td>\n",
       "    </tr>\n",
       "  </tbody>\n",
       "</table>\n"
      ],
      "text/plain": [
       "<pandas.io.formats.style.Styler at 0x7f250e56cc70>"
      ]
     },
     "metadata": {},
     "output_type": "display_data"
    }
   ],
   "source": [
    "\n",
    "\n",
    "unique_datasets = pd.read_csv(os.path.join(os.getcwd(), 'results', 'log_likelihood_summary.csv'))['dataset'].unique()\n",
    "dataset_info = pd.read_csv(os.path.join(repo_root, 'datasets', 'dataset_info.csv'))\n",
    "filtered_dataset_info = dataset_info[dataset_info['Dataset_ID'].isin(unique_datasets)].set_index('Dataset_ID')\n",
    "\n",
    "# print(dataset_info)\n",
    "# domain_order = [\"Election\", \"Sport\", \"Preferences\", \"Other\"]\n",
    "# filtered_dataset_info['Domain'] = pd.Categorical(filtered_dataset_info['Domain'], categories=domain_order, ordered=True)\n",
    "\n",
    "filtered_dataset_info = filtered_dataset_info.sort_values(by=['K1', 'K2', 'R', 'Name'])\n",
    "visualize_df(filtered_dataset_info, 'Datasets Tested')"
   ]
  },
  {
   "cell_type": "code",
   "execution_count": 75,
   "metadata": {},
   "outputs": [
    {
     "name": "stdout",
     "output_type": "stream",
     "text": [
      "HO_BT\n",
      "HOL_BT\n"
     ]
    }
   ],
   "source": [
    "log_like, leadership_log = process_results()\n",
    "\n",
    "def rename_df(df):\n",
    "    merged_df = df.merge(dataset_info, left_on='dataset', right_on='Dataset_ID').drop(columns=['Dataset_ID','dataset'])\n",
    "    # merged_df = merged_df.rename(columns={'Name': 'dataset_name'}).set_index('dataset_name')\n",
    "\n",
    "    domain_order = [\"Election\", \"Sport\", \"Preferences\", \"Other\"]\n",
    "    # merged_df['Domain'] = pd.Categorical(merged_df['Domain'], categories=domain_order, ordered=True)\n",
    "    merged_df = merged_df.sort_values(by=['K1', 'K2', 'Name'])\n",
    "    merged_df = merged_df[[ 'Name', 'HO_BT','HOL_BT', 'BIN', 'BINL', 'Spring_Rank', 'Page_Rank', 'Point_Wise']]\n",
    "\n",
    "    return merged_df"
   ]
  },
  {
   "cell_type": "code",
   "execution_count": 76,
   "metadata": {},
   "outputs": [
    {
     "name": "stdout",
     "output_type": "stream",
     "text": [
      "\n",
      "log likelihood\n",
      "\n"
     ]
    },
    {
     "data": {
      "text/html": [
       "<style type=\"text/css\">\n",
       "#T_454b9_row0_col0, #T_454b9_row0_col1, #T_454b9_row0_col2, #T_454b9_row0_col3, #T_454b9_row0_col4, #T_454b9_row0_col5, #T_454b9_row0_col6, #T_454b9_row0_col7, #T_454b9_row1_col0, #T_454b9_row1_col1, #T_454b9_row1_col2, #T_454b9_row1_col3, #T_454b9_row1_col4, #T_454b9_row1_col5, #T_454b9_row1_col6, #T_454b9_row1_col7, #T_454b9_row2_col0, #T_454b9_row2_col1, #T_454b9_row2_col2, #T_454b9_row2_col3, #T_454b9_row2_col4, #T_454b9_row2_col5, #T_454b9_row2_col6, #T_454b9_row2_col7 {\n",
       "  background-color: LightGray;\n",
       "  color: black;\n",
       "  border-color: black;\n",
       "  border-style: solid;\n",
       "  border-width: 1px;\n",
       "  text-align: left;\n",
       "}\n",
       "</style>\n",
       "<table id=\"T_454b9\">\n",
       "  <thead>\n",
       "    <tr>\n",
       "      <th class=\"blank level0\" >&nbsp;</th>\n",
       "      <th id=\"T_454b9_level0_col0\" class=\"col_heading level0 col0\" >Name</th>\n",
       "      <th id=\"T_454b9_level0_col1\" class=\"col_heading level0 col1\" >HO_BT</th>\n",
       "      <th id=\"T_454b9_level0_col2\" class=\"col_heading level0 col2\" >HOL_BT</th>\n",
       "      <th id=\"T_454b9_level0_col3\" class=\"col_heading level0 col3\" >BIN</th>\n",
       "      <th id=\"T_454b9_level0_col4\" class=\"col_heading level0 col4\" >BINL</th>\n",
       "      <th id=\"T_454b9_level0_col5\" class=\"col_heading level0 col5\" >Spring_Rank</th>\n",
       "      <th id=\"T_454b9_level0_col6\" class=\"col_heading level0 col6\" >Page_Rank</th>\n",
       "      <th id=\"T_454b9_level0_col7\" class=\"col_heading level0 col7\" >Point_Wise</th>\n",
       "    </tr>\n",
       "  </thead>\n",
       "  <tbody>\n",
       "    <tr>\n",
       "      <th id=\"T_454b9_level0_row0\" class=\"row_heading level0 row0\" >2</th>\n",
       "      <td id=\"T_454b9_row0_col0\" class=\"data row0 col0\" >APA_election</td>\n",
       "      <td id=\"T_454b9_row0_col1\" class=\"data row0 col1\" >0.000000</td>\n",
       "      <td id=\"T_454b9_row0_col2\" class=\"data row0 col2\" >-8.030349</td>\n",
       "      <td id=\"T_454b9_row0_col3\" class=\"data row0 col3\" >-8.020390</td>\n",
       "      <td id=\"T_454b9_row0_col4\" class=\"data row0 col4\" >-8.029644</td>\n",
       "      <td id=\"T_454b9_row0_col5\" class=\"data row0 col5\" >-30.488771</td>\n",
       "      <td id=\"T_454b9_row0_col6\" class=\"data row0 col6\" >-8.025190</td>\n",
       "      <td id=\"T_454b9_row0_col7\" class=\"data row0 col7\" >-8.022637</td>\n",
       "    </tr>\n",
       "    <tr>\n",
       "      <th id=\"T_454b9_level0_row1\" class=\"row_heading level0 row1\" >0</th>\n",
       "      <td id=\"T_454b9_row1_col0\" class=\"data row1 col0\" >AGH_course_selection</td>\n",
       "      <td id=\"T_454b9_row1_col1\" class=\"data row1 col1\" >0.000000</td>\n",
       "      <td id=\"T_454b9_row1_col2\" class=\"data row1 col2\" >-69.569586</td>\n",
       "      <td id=\"T_454b9_row1_col3\" class=\"data row1 col3\" >-37.792514</td>\n",
       "      <td id=\"T_454b9_row1_col4\" class=\"data row1 col4\" >-69.807542</td>\n",
       "      <td id=\"T_454b9_row1_col5\" class=\"data row1 col5\" >-77.421993</td>\n",
       "      <td id=\"T_454b9_row1_col6\" class=\"data row1 col6\" >-54.622632</td>\n",
       "      <td id=\"T_454b9_row1_col7\" class=\"data row1 col7\" >-44.238760</td>\n",
       "    </tr>\n",
       "    <tr>\n",
       "      <th id=\"T_454b9_level0_row2\" class=\"row_heading level0 row2\" >1</th>\n",
       "      <td id=\"T_454b9_row2_col0\" class=\"data row2 col0\" >sushi</td>\n",
       "      <td id=\"T_454b9_row2_col1\" class=\"data row2 col1\" >0.000000</td>\n",
       "      <td id=\"T_454b9_row2_col2\" class=\"data row2 col2\" >-84.002455</td>\n",
       "      <td id=\"T_454b9_row2_col3\" class=\"data row2 col3\" >-81.622219</td>\n",
       "      <td id=\"T_454b9_row2_col4\" class=\"data row2 col4\" >-85.290577</td>\n",
       "      <td id=\"T_454b9_row2_col5\" class=\"data row2 col5\" >-82.246758</td>\n",
       "      <td id=\"T_454b9_row2_col6\" class=\"data row2 col6\" >-88.808490</td>\n",
       "      <td id=\"T_454b9_row2_col7\" class=\"data row2 col7\" >-83.641189</td>\n",
       "    </tr>\n",
       "  </tbody>\n",
       "</table>\n"
      ],
      "text/plain": [
       "<pandas.io.formats.style.Styler at 0x7f250e549ba0>"
      ]
     },
     "metadata": {},
     "output_type": "display_data"
    }
   ],
   "source": [
    "\n",
    "log_like = rename_df(log_like)\n",
    "visualize_df(log_like, 'log likelihood')"
   ]
  },
  {
   "cell_type": "code",
   "execution_count": 77,
   "metadata": {},
   "outputs": [
    {
     "name": "stdout",
     "output_type": "stream",
     "text": [
      "\n",
      "Leadership log likelihood\n",
      "\n"
     ]
    },
    {
     "data": {
      "text/html": [
       "<style type=\"text/css\">\n",
       "#T_91472_row0_col0, #T_91472_row0_col1, #T_91472_row0_col2, #T_91472_row0_col3, #T_91472_row0_col4, #T_91472_row0_col5, #T_91472_row0_col6, #T_91472_row0_col7, #T_91472_row1_col0, #T_91472_row1_col1, #T_91472_row1_col2, #T_91472_row1_col3, #T_91472_row1_col4, #T_91472_row1_col5, #T_91472_row1_col6, #T_91472_row1_col7, #T_91472_row2_col0, #T_91472_row2_col1, #T_91472_row2_col2, #T_91472_row2_col3, #T_91472_row2_col4, #T_91472_row2_col5, #T_91472_row2_col6, #T_91472_row2_col7 {\n",
       "  background-color: LightGray;\n",
       "  color: black;\n",
       "  border-color: black;\n",
       "  border-style: solid;\n",
       "  border-width: 1px;\n",
       "  text-align: left;\n",
       "}\n",
       "</style>\n",
       "<table id=\"T_91472\">\n",
       "  <thead>\n",
       "    <tr>\n",
       "      <th class=\"blank level0\" >&nbsp;</th>\n",
       "      <th id=\"T_91472_level0_col0\" class=\"col_heading level0 col0\" >Name</th>\n",
       "      <th id=\"T_91472_level0_col1\" class=\"col_heading level0 col1\" >HO_BT</th>\n",
       "      <th id=\"T_91472_level0_col2\" class=\"col_heading level0 col2\" >HOL_BT</th>\n",
       "      <th id=\"T_91472_level0_col3\" class=\"col_heading level0 col3\" >BIN</th>\n",
       "      <th id=\"T_91472_level0_col4\" class=\"col_heading level0 col4\" >BINL</th>\n",
       "      <th id=\"T_91472_level0_col5\" class=\"col_heading level0 col5\" >Spring_Rank</th>\n",
       "      <th id=\"T_91472_level0_col6\" class=\"col_heading level0 col6\" >Page_Rank</th>\n",
       "      <th id=\"T_91472_level0_col7\" class=\"col_heading level0 col7\" >Point_Wise</th>\n",
       "    </tr>\n",
       "  </thead>\n",
       "  <tbody>\n",
       "    <tr>\n",
       "      <th id=\"T_91472_level0_row0\" class=\"row_heading level0 row0\" >2</th>\n",
       "      <td id=\"T_91472_row0_col0\" class=\"data row0 col0\" >APA_election</td>\n",
       "      <td id=\"T_91472_row0_col1\" class=\"data row0 col1\" >-0.003044</td>\n",
       "      <td id=\"T_91472_row0_col2\" class=\"data row0 col2\" >0.000000</td>\n",
       "      <td id=\"T_91472_row0_col3\" class=\"data row0 col3\" >-1.133486</td>\n",
       "      <td id=\"T_91472_row0_col4\" class=\"data row0 col4\" >-1.131509</td>\n",
       "      <td id=\"T_91472_row0_col5\" class=\"data row0 col5\" >-4.389327</td>\n",
       "      <td id=\"T_91472_row0_col6\" class=\"data row0 col6\" >-1.132327</td>\n",
       "      <td id=\"T_91472_row0_col7\" class=\"data row0 col7\" >-1.132335</td>\n",
       "    </tr>\n",
       "    <tr>\n",
       "      <th id=\"T_91472_level0_row1\" class=\"row_heading level0 row1\" >0</th>\n",
       "      <td id=\"T_91472_row1_col0\" class=\"data row1 col0\" >AGH_course_selection</td>\n",
       "      <td id=\"T_91472_row1_col1\" class=\"data row1 col1\" >-0.971300</td>\n",
       "      <td id=\"T_91472_row1_col2\" class=\"data row1 col2\" >0.000000</td>\n",
       "      <td id=\"T_91472_row1_col3\" class=\"data row1 col3\" >-0.896640</td>\n",
       "      <td id=\"T_91472_row1_col4\" class=\"data row1 col4\" >-0.015293</td>\n",
       "      <td id=\"T_91472_row1_col5\" class=\"data row1 col5\" >-1.386154</td>\n",
       "      <td id=\"T_91472_row1_col6\" class=\"data row1 col6\" >-2.876898</td>\n",
       "      <td id=\"T_91472_row1_col7\" class=\"data row1 col7\" >-1.687371</td>\n",
       "    </tr>\n",
       "    <tr>\n",
       "      <th id=\"T_91472_level0_row2\" class=\"row_heading level0 row2\" >1</th>\n",
       "      <td id=\"T_91472_row2_col0\" class=\"data row2 col0\" >sushi</td>\n",
       "      <td id=\"T_91472_row2_col1\" class=\"data row2 col1\" >-0.099966</td>\n",
       "      <td id=\"T_91472_row2_col2\" class=\"data row2 col2\" >0.000000</td>\n",
       "      <td id=\"T_91472_row2_col3\" class=\"data row2 col3\" >-2.082928</td>\n",
       "      <td id=\"T_91472_row2_col4\" class=\"data row2 col4\" >-2.025895</td>\n",
       "      <td id=\"T_91472_row2_col5\" class=\"data row2 col5\" >-2.127639</td>\n",
       "      <td id=\"T_91472_row2_col6\" class=\"data row2 col6\" >-2.306420</td>\n",
       "      <td id=\"T_91472_row2_col7\" class=\"data row2 col7\" >-2.194517</td>\n",
       "    </tr>\n",
       "  </tbody>\n",
       "</table>\n"
      ],
      "text/plain": [
       "<pandas.io.formats.style.Styler at 0x7f250e56cc70>"
      ]
     },
     "metadata": {},
     "output_type": "display_data"
    }
   ],
   "source": [
    "leadership_log = rename_df(leadership_log)\n",
    "visualize_df(leadership_log, 'Leadership log likelihood')"
   ]
  },
  {
   "cell_type": "code",
   "execution_count": 78,
   "metadata": {},
   "outputs": [
    {
     "data": {
      "text/html": [
       "<style type=\"text/css\">\n",
       "#T_fdac1_row0_col3, #T_fdac1_row1_col3, #T_fdac1_row2_col3 {\n",
       "  background-color: grey;\n",
       "}\n",
       "</style>\n",
       "<table id=\"T_fdac1\">\n",
       "  <thead>\n",
       "    <tr>\n",
       "      <th class=\"blank level0\" >&nbsp;</th>\n",
       "      <th id=\"T_fdac1_level0_col0\" class=\"col_heading level0 col0\" >dataset</th>\n",
       "      <th id=\"T_fdac1_level0_col1\" class=\"col_heading level0 col1\" >HO_BT</th>\n",
       "      <th id=\"T_fdac1_level0_col2\" class=\"col_heading level0 col2\" >HOL_BT</th>\n",
       "      <th id=\"T_fdac1_level0_col3\" class=\"col_heading level0 col3\" >BIN</th>\n",
       "      <th id=\"T_fdac1_level0_col4\" class=\"col_heading level0 col4\" >BINL</th>\n",
       "      <th id=\"T_fdac1_level0_col5\" class=\"col_heading level0 col5\" >Spring_Rank</th>\n",
       "      <th id=\"T_fdac1_level0_col6\" class=\"col_heading level0 col6\" >Page_Rank</th>\n",
       "      <th id=\"T_fdac1_level0_col7\" class=\"col_heading level0 col7\" >Point_Wise</th>\n",
       "    </tr>\n",
       "  </thead>\n",
       "  <tbody>\n",
       "    <tr>\n",
       "      <th id=\"T_fdac1_level0_row0\" class=\"row_heading level0 row0\" >0</th>\n",
       "      <td id=\"T_fdac1_row0_col0\" class=\"data row0 col0\" >9</td>\n",
       "      <td id=\"T_fdac1_row0_col1\" class=\"data row0 col1\" >-38.109360</td>\n",
       "      <td id=\"T_fdac1_row0_col2\" class=\"data row0 col2\" >-69.569586</td>\n",
       "      <td id=\"T_fdac1_row0_col3\" class=\"data row0 col3\" >-37.792514</td>\n",
       "      <td id=\"T_fdac1_row0_col4\" class=\"data row0 col4\" >-69.807542</td>\n",
       "      <td id=\"T_fdac1_row0_col5\" class=\"data row0 col5\" >-77.421993</td>\n",
       "      <td id=\"T_fdac1_row0_col6\" class=\"data row0 col6\" >-54.622632</td>\n",
       "      <td id=\"T_fdac1_row0_col7\" class=\"data row0 col7\" >-44.238760</td>\n",
       "    </tr>\n",
       "    <tr>\n",
       "      <th id=\"T_fdac1_level0_row1\" class=\"row_heading level0 row1\" >1</th>\n",
       "      <td id=\"T_fdac1_row1_col0\" class=\"data row1 col0\" >14</td>\n",
       "      <td id=\"T_fdac1_row1_col1\" class=\"data row1 col1\" >-81.946867</td>\n",
       "      <td id=\"T_fdac1_row1_col2\" class=\"data row1 col2\" >-84.002455</td>\n",
       "      <td id=\"T_fdac1_row1_col3\" class=\"data row1 col3\" >-81.622219</td>\n",
       "      <td id=\"T_fdac1_row1_col4\" class=\"data row1 col4\" >-85.290577</td>\n",
       "      <td id=\"T_fdac1_row1_col5\" class=\"data row1 col5\" >-82.246758</td>\n",
       "      <td id=\"T_fdac1_row1_col6\" class=\"data row1 col6\" >-88.808490</td>\n",
       "      <td id=\"T_fdac1_row1_col7\" class=\"data row1 col7\" >-83.641189</td>\n",
       "    </tr>\n",
       "    <tr>\n",
       "      <th id=\"T_fdac1_level0_row2\" class=\"row_heading level0 row2\" >2</th>\n",
       "      <td id=\"T_fdac1_row2_col0\" class=\"data row2 col0\" >28</td>\n",
       "      <td id=\"T_fdac1_row2_col1\" class=\"data row2 col1\" >-8.022434</td>\n",
       "      <td id=\"T_fdac1_row2_col2\" class=\"data row2 col2\" >-8.030349</td>\n",
       "      <td id=\"T_fdac1_row2_col3\" class=\"data row2 col3\" >-8.020390</td>\n",
       "      <td id=\"T_fdac1_row2_col4\" class=\"data row2 col4\" >-8.029644</td>\n",
       "      <td id=\"T_fdac1_row2_col5\" class=\"data row2 col5\" >-30.488771</td>\n",
       "      <td id=\"T_fdac1_row2_col6\" class=\"data row2 col6\" >-8.025190</td>\n",
       "      <td id=\"T_fdac1_row2_col7\" class=\"data row2 col7\" >-8.022637</td>\n",
       "    </tr>\n",
       "  </tbody>\n",
       "</table>\n"
      ],
      "text/plain": [
       "<pandas.io.formats.style.Styler at 0x7f250e56db40>"
      ]
     },
     "execution_count": 78,
     "metadata": {},
     "output_type": "execute_result"
    }
   ],
   "source": [
    "log_likelihood_df = (\n",
    "    pd.read_csv(os.path.join(EXPERIMENT_PATH, 'results', 'log_likelihood_summary.csv'))\n",
    "    .groupby(by=['dataset'])\n",
    "    .mean()\n",
    "    .reset_index()\n",
    "    .drop(columns=['epoch'])\n",
    ")\n",
    "\n",
    "log_likelihood_df.style.highlight_max(axis=1, color='grey', subset=log_likelihood_df.columns.difference(['dataset']))"
   ]
  },
  {
   "cell_type": "code",
   "execution_count": 79,
   "metadata": {},
   "outputs": [
    {
     "data": {
      "text/html": [
       "<style type=\"text/css\">\n",
       "#T_5488d_row0_col4, #T_5488d_row1_col2, #T_5488d_row2_col2 {\n",
       "  background-color: grey;\n",
       "}\n",
       "</style>\n",
       "<table id=\"T_5488d\">\n",
       "  <thead>\n",
       "    <tr>\n",
       "      <th class=\"blank level0\" >&nbsp;</th>\n",
       "      <th id=\"T_5488d_level0_col0\" class=\"col_heading level0 col0\" >dataset</th>\n",
       "      <th id=\"T_5488d_level0_col1\" class=\"col_heading level0 col1\" >HO_BT</th>\n",
       "      <th id=\"T_5488d_level0_col2\" class=\"col_heading level0 col2\" >HOL_BT</th>\n",
       "      <th id=\"T_5488d_level0_col3\" class=\"col_heading level0 col3\" >BIN</th>\n",
       "      <th id=\"T_5488d_level0_col4\" class=\"col_heading level0 col4\" >BINL</th>\n",
       "      <th id=\"T_5488d_level0_col5\" class=\"col_heading level0 col5\" >Spring_Rank</th>\n",
       "      <th id=\"T_5488d_level0_col6\" class=\"col_heading level0 col6\" >Page_Rank</th>\n",
       "      <th id=\"T_5488d_level0_col7\" class=\"col_heading level0 col7\" >Point_Wise</th>\n",
       "    </tr>\n",
       "  </thead>\n",
       "  <tbody>\n",
       "    <tr>\n",
       "      <th id=\"T_5488d_level0_row0\" class=\"row_heading level0 row0\" >0</th>\n",
       "      <td id=\"T_5488d_row0_col0\" class=\"data row0 col0\" >9</td>\n",
       "      <td id=\"T_5488d_row0_col1\" class=\"data row0 col1\" >-0.986864</td>\n",
       "      <td id=\"T_5488d_row0_col2\" class=\"data row0 col2\" >-0.015564</td>\n",
       "      <td id=\"T_5488d_row0_col3\" class=\"data row0 col3\" >-0.896640</td>\n",
       "      <td id=\"T_5488d_row0_col4\" class=\"data row0 col4\" >-0.015293</td>\n",
       "      <td id=\"T_5488d_row0_col5\" class=\"data row0 col5\" >-1.386154</td>\n",
       "      <td id=\"T_5488d_row0_col6\" class=\"data row0 col6\" >-2.876898</td>\n",
       "      <td id=\"T_5488d_row0_col7\" class=\"data row0 col7\" >-1.687371</td>\n",
       "    </tr>\n",
       "    <tr>\n",
       "      <th id=\"T_5488d_level0_row1\" class=\"row_heading level0 row1\" >1</th>\n",
       "      <td id=\"T_5488d_row1_col0\" class=\"data row1 col0\" >14</td>\n",
       "      <td id=\"T_5488d_row1_col1\" class=\"data row1 col1\" >-2.120922</td>\n",
       "      <td id=\"T_5488d_row1_col2\" class=\"data row1 col2\" >-2.020955</td>\n",
       "      <td id=\"T_5488d_row1_col3\" class=\"data row1 col3\" >-2.082928</td>\n",
       "      <td id=\"T_5488d_row1_col4\" class=\"data row1 col4\" >-2.025895</td>\n",
       "      <td id=\"T_5488d_row1_col5\" class=\"data row1 col5\" >-2.127639</td>\n",
       "      <td id=\"T_5488d_row1_col6\" class=\"data row1 col6\" >-2.306420</td>\n",
       "      <td id=\"T_5488d_row1_col7\" class=\"data row1 col7\" >-2.194517</td>\n",
       "    </tr>\n",
       "    <tr>\n",
       "      <th id=\"T_5488d_level0_row2\" class=\"row_heading level0 row2\" >2</th>\n",
       "      <td id=\"T_5488d_row2_col0\" class=\"data row2 col0\" >28</td>\n",
       "      <td id=\"T_5488d_row2_col1\" class=\"data row2 col1\" >-1.134479</td>\n",
       "      <td id=\"T_5488d_row2_col2\" class=\"data row2 col2\" >-1.131435</td>\n",
       "      <td id=\"T_5488d_row2_col3\" class=\"data row2 col3\" >-1.133486</td>\n",
       "      <td id=\"T_5488d_row2_col4\" class=\"data row2 col4\" >-1.131509</td>\n",
       "      <td id=\"T_5488d_row2_col5\" class=\"data row2 col5\" >-4.389327</td>\n",
       "      <td id=\"T_5488d_row2_col6\" class=\"data row2 col6\" >-1.132327</td>\n",
       "      <td id=\"T_5488d_row2_col7\" class=\"data row2 col7\" >-1.132335</td>\n",
       "    </tr>\n",
       "  </tbody>\n",
       "</table>\n"
      ],
      "text/plain": [
       "<pandas.io.formats.style.Styler at 0x7f250e549ba0>"
      ]
     },
     "execution_count": 79,
     "metadata": {},
     "output_type": "execute_result"
    }
   ],
   "source": [
    "log_likelihood_df = (\n",
    "    pd.read_csv(os.path.join(EXPERIMENT_PATH, 'results', 'leadership_log_likelihood_summary.csv'))\n",
    "    .groupby(by=['dataset'])\n",
    "    .mean()\n",
    "    .reset_index()\n",
    "    .drop(columns=['epoch'])\n",
    ")\n",
    "\n",
    "log_likelihood_df.style.highlight_max(axis=1, color='grey', subset=log_likelihood_df.columns.difference(['dataset']))"
   ]
  },
  {
   "cell_type": "code",
   "execution_count": null,
   "metadata": {},
   "outputs": [],
   "source": []
  }
 ],
 "metadata": {
  "kernelspec": {
   "display_name": ".venv",
   "language": "python",
   "name": "python3"
  },
  "language_info": {
   "codemirror_mode": {
    "name": "ipython",
    "version": 3
   },
   "file_extension": ".py",
   "mimetype": "text/x-python",
   "name": "python",
   "nbconvert_exporter": "python",
   "pygments_lexer": "ipython3",
   "version": "3.10.12"
  }
 },
 "nbformat": 4,
 "nbformat_minor": 2
}
