{
 "cells": [
  {
   "cell_type": "code",
   "execution_count": 1,
   "metadata": {},
   "outputs": [],
   "source": [
    "import os\n",
    "import sys\n",
    "import csv\n",
    "import seaborn as sns\n",
    "import matplotlib.pyplot as plt\n",
    "import pandas as pd\n",
    "import numpy as np\n",
    "\n",
    "repo_root = os.path.abspath(os.path.join(os.getcwd(), '..', '..'))\n",
    "sys.path.append(repo_root)\n",
    "\n",
    "from src.utils.file_handlers import read_file_parameters"
   ]
  },
  {
   "cell_type": "code",
   "execution_count": 2,
   "metadata": {},
   "outputs": [],
   "source": [
    "EXPERIMENT_PATH = os.path.join(repo_root, 'exp', 'ex04')\n",
    "os.chdir(EXPERIMENT_PATH)"
   ]
  },
  {
   "cell_type": "code",
   "execution_count": 3,
   "metadata": {},
   "outputs": [],
   "source": [
    "def file_handlers(): \n",
    "    data_path = os.path.join(os.getcwd(), 'data')\n",
    "\n",
    "    all_results = []\n",
    "    \n",
    "    for file in os.listdir(data_path):\n",
    "        id, _ = file.split('_data.csv')\n",
    "        if file.endswith('.csv'):\n",
    "      \n",
    "            file_path = os.path.join(data_path, file)\n",
    "            df = pd.read_csv(file_path)\n",
    "\n",
    "            result = {\n",
    "                    'dataset':id, \n",
    "                    'Ours': df['Ours'].mean(), \n",
    "                    'Zermello': df['Zermello'].mean(),\n",
    "                    'higher_order_speedup': df['Zermello'].mean() / df['Ours'].mean(),\n",
    "                    'Ours_BIN': df['Ours_bin'].mean(),\n",
    "                    'Zermello_BIN' : df['Zermello_bin'].mean(),\n",
    "                    'binary_speedup': df['Zermello_bin'].mean() / df['Ours_bin'].mean()\n",
    "                      }\n",
    "\n",
    "            all_results.append(result)\n",
    "\n",
    "    final_df = pd.DataFrame(all_results)\n",
    "    final_df['dataset'] = pd.to_numeric(final_df['dataset'], errors='coerce')\n",
    "    return final_df.sort_values(by='dataset')"
   ]
  },
  {
   "cell_type": "code",
   "execution_count": 4,
   "metadata": {},
   "outputs": [
    {
     "data": {
      "text/html": [
       "<style type=\"text/css\">\n",
       "</style>\n",
       "<table id=\"T_2ffe0\">\n",
       "  <thead>\n",
       "    <tr>\n",
       "      <th id=\"T_2ffe0_level0_col0\" class=\"col_heading level0 col0\" >dataset</th>\n",
       "      <th id=\"T_2ffe0_level0_col1\" class=\"col_heading level0 col1\" >Ours</th>\n",
       "      <th id=\"T_2ffe0_level0_col2\" class=\"col_heading level0 col2\" >Zermello</th>\n",
       "      <th id=\"T_2ffe0_level0_col3\" class=\"col_heading level0 col3\" >higher_order_speedup</th>\n",
       "      <th id=\"T_2ffe0_level0_col4\" class=\"col_heading level0 col4\" >Ours_BIN</th>\n",
       "      <th id=\"T_2ffe0_level0_col5\" class=\"col_heading level0 col5\" >Zermello_BIN</th>\n",
       "      <th id=\"T_2ffe0_level0_col6\" class=\"col_heading level0 col6\" >binary_speedup</th>\n",
       "    </tr>\n",
       "  </thead>\n",
       "  <tbody>\n",
       "    <tr>\n",
       "      <td id=\"T_2ffe0_row0_col0\" class=\"data row0 col0\" >9</td>\n",
       "      <td id=\"T_2ffe0_row0_col1\" class=\"data row0 col1\" >6.860000</td>\n",
       "      <td id=\"T_2ffe0_row0_col2\" class=\"data row0 col2\" >600.750000</td>\n",
       "      <td id=\"T_2ffe0_row0_col3\" class=\"data row0 col3\" >87.572886</td>\n",
       "      <td id=\"T_2ffe0_row0_col4\" class=\"data row0 col4\" >7.050000</td>\n",
       "      <td id=\"T_2ffe0_row0_col5\" class=\"data row0 col5\" >2985.590000</td>\n",
       "      <td id=\"T_2ffe0_row0_col6\" class=\"data row0 col6\" >423.487943</td>\n",
       "    </tr>\n",
       "    <tr>\n",
       "      <td id=\"T_2ffe0_row1_col0\" class=\"data row1 col0\" >28</td>\n",
       "      <td id=\"T_2ffe0_row1_col1\" class=\"data row1 col1\" >7.270000</td>\n",
       "      <td id=\"T_2ffe0_row1_col2\" class=\"data row1 col2\" >17.410000</td>\n",
       "      <td id=\"T_2ffe0_row1_col3\" class=\"data row1 col3\" >2.394773</td>\n",
       "      <td id=\"T_2ffe0_row1_col4\" class=\"data row1 col4\" >7.290000</td>\n",
       "      <td id=\"T_2ffe0_row1_col5\" class=\"data row1 col5\" >35.560000</td>\n",
       "      <td id=\"T_2ffe0_row1_col6\" class=\"data row1 col6\" >4.877915</td>\n",
       "    </tr>\n",
       "    <tr>\n",
       "      <td id=\"T_2ffe0_row2_col0\" class=\"data row2 col0\" >100</td>\n",
       "      <td id=\"T_2ffe0_row2_col1\" class=\"data row2 col1\" >19.290000</td>\n",
       "      <td id=\"T_2ffe0_row2_col2\" class=\"data row2 col2\" >54.370000</td>\n",
       "      <td id=\"T_2ffe0_row2_col3\" class=\"data row2 col3\" >2.818559</td>\n",
       "      <td id=\"T_2ffe0_row2_col4\" class=\"data row2 col4\" >27.120000</td>\n",
       "      <td id=\"T_2ffe0_row2_col5\" class=\"data row2 col5\" >260.370000</td>\n",
       "      <td id=\"T_2ffe0_row2_col6\" class=\"data row2 col6\" >9.600664</td>\n",
       "    </tr>\n",
       "    <tr>\n",
       "      <td id=\"T_2ffe0_row3_col0\" class=\"data row3 col0\" >102</td>\n",
       "      <td id=\"T_2ffe0_row3_col1\" class=\"data row3 col1\" >11.820000</td>\n",
       "      <td id=\"T_2ffe0_row3_col2\" class=\"data row3 col2\" >59.750000</td>\n",
       "      <td id=\"T_2ffe0_row3_col3\" class=\"data row3 col3\" >5.054992</td>\n",
       "      <td id=\"T_2ffe0_row3_col4\" class=\"data row3 col4\" >10.930000</td>\n",
       "      <td id=\"T_2ffe0_row3_col5\" class=\"data row3 col5\" >126.220000</td>\n",
       "      <td id=\"T_2ffe0_row3_col6\" class=\"data row3 col6\" >11.548033</td>\n",
       "    </tr>\n",
       "    <tr>\n",
       "      <td id=\"T_2ffe0_row4_col0\" class=\"data row4 col0\" >105</td>\n",
       "      <td id=\"T_2ffe0_row4_col1\" class=\"data row4 col1\" >18.960000</td>\n",
       "      <td id=\"T_2ffe0_row4_col2\" class=\"data row4 col2\" >2769.980000</td>\n",
       "      <td id=\"T_2ffe0_row4_col3\" class=\"data row4 col3\" >146.095992</td>\n",
       "      <td id=\"T_2ffe0_row4_col4\" class=\"data row4 col4\" >18.960000</td>\n",
       "      <td id=\"T_2ffe0_row4_col5\" class=\"data row4 col5\" >2769.980000</td>\n",
       "      <td id=\"T_2ffe0_row4_col6\" class=\"data row4 col6\" >146.095992</td>\n",
       "    </tr>\n",
       "    <tr>\n",
       "      <td id=\"T_2ffe0_row5_col0\" class=\"data row5 col0\" >106</td>\n",
       "      <td id=\"T_2ffe0_row5_col1\" class=\"data row5 col1\" >14.160000</td>\n",
       "      <td id=\"T_2ffe0_row5_col2\" class=\"data row5 col2\" >23.540000</td>\n",
       "      <td id=\"T_2ffe0_row5_col3\" class=\"data row5 col3\" >1.662429</td>\n",
       "      <td id=\"T_2ffe0_row5_col4\" class=\"data row5 col4\" >9.920000</td>\n",
       "      <td id=\"T_2ffe0_row5_col5\" class=\"data row5 col5\" >68.910000</td>\n",
       "      <td id=\"T_2ffe0_row5_col6\" class=\"data row5 col6\" >6.946573</td>\n",
       "    </tr>\n",
       "  </tbody>\n",
       "</table>\n"
      ],
      "text/plain": [
       "<pandas.io.formats.style.Styler at 0x7fdf22f63af0>"
      ]
     },
     "metadata": {},
     "output_type": "display_data"
    }
   ],
   "source": [
    "df = file_handlers()\n",
    "df.to_csv('results/Convergence_Table.csv')\n",
    "display(df.style.hide(axis='index'))"
   ]
  }
 ],
 "metadata": {
  "kernelspec": {
   "display_name": ".venv",
   "language": "python",
   "name": "python3"
  },
  "language_info": {
   "codemirror_mode": {
    "name": "ipython",
    "version": 3
   },
   "file_extension": ".py",
   "mimetype": "text/x-python",
   "name": "python",
   "nbconvert_exporter": "python",
   "pygments_lexer": "ipython3",
   "version": "3.10.12"
  }
 },
 "nbformat": 4,
 "nbformat_minor": 2
}
