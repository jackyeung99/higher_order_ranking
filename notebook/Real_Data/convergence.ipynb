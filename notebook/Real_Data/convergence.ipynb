{
 "cells": [
  {
   "cell_type": "code",
   "execution_count": null,
   "metadata": {},
   "outputs": [],
   "source": [
    "import os\n",
    "import sys\n",
    "import csv\n",
    "import seaborn as sns\n",
    "import matplotlib.pyplot as plt\n",
    "import pandas as pd\n",
    "import numpy as np\n",
    "\n",
    "repo_root = os.path.abspath(os.path.join(os.getcwd(), '..', '..'))\n",
    "sys.path.append(repo_root)\n",
    "\n",
    "from src.utils.file_handlers import read_file_parameters"
   ]
  },
  {
   "cell_type": "code",
   "execution_count": null,
   "metadata": {},
   "outputs": [],
   "source": [
    "def file_handlers(): \n",
    "    data_path = os.path.join(os.getcwd(), 'data')\n",
    "\n",
    "    all_results = []\n",
    "    for file in os.listdir(data_path):\n",
    "        id, _ = file.split('_data.csv')\n",
    "        if file.endswith('.csv'):\n",
    "      \n",
    "            file_path = os.path.join(data_path, file)\n",
    "            df = pd.read_csv(file_path)\n",
    "\n",
    "            result = {\n",
    "                    'dataset':id, \n",
    "                    'Ours': df['Ours'].mean(), \n",
    "                    'Zermello': df['Zermello'].mean(),\n",
    "                    'higher_order_speedup': df['Zermello'].mean() / df['Ours'].mean(),\n",
    "                    'Ours_BIN': df['Ours_bin'].mean(),\n",
    "                    'Zermello_BIN' : df['Zermello_bin'].mean(),\n",
    "                    'binary_speedup': df['Zermello_bin'].mean() / df['Ours_bin'].mean()\n",
    "                      }\n",
    "\n",
    "            all_results.append(result)\n",
    "\n",
    "    final_df = pd.DataFrame(all_results)\n",
    "    final_df['dataset'] = pd.to_numeric(final_df['dataset'], errors='coerce')\n",
    "    return final_df.sort_values(by='dataset')"
   ]
  },
  {
   "cell_type": "code",
   "execution_count": null,
   "metadata": {},
   "outputs": [],
   "source": [
    "df = file_handlers()\n",
    "df.to_csv('results/Convergence_Table.csv')\n",
    "display(df.style.hide(axis='index'))"
   ]
  },
  {
   "cell_type": "code",
   "execution_count": null,
   "metadata": {},
   "outputs": [],
   "source": [
    "info_table = pd.read_csv(os.path.join(repo_root, 'datasets', 'dataset_info.csv'))\n",
    "merged_df = pd.merge(info_table, df, left_on='dataset_id', right_on='dataset')\n",
    "merged_df = merged_df[merged_df['dataset'] != 9]\n",
    "plt.title('Game Size compared to Speed Up')\n",
    "plt.scatter(merged_df['K_avg'], merged_df['higher_order_speedup'], label='Higher Order Speed Up')\n",
    "# plt.scatter(merged_df['K_avg'], merged_df['binary_speedup'], c='red', label='Binary Speed Up')\n",
    "plt.xscale('log')\n",
    "plt.ylabel('Average Speed Up')\n",
    "plt.xlabel('Average Game Size')\n",
    "plt.legend()\n",
    "\n",
    "plt.show()"
   ]
  }
 ],
 "metadata": {
  "kernelspec": {
   "display_name": ".venv",
   "language": "python",
   "name": "python3"
  },
  "language_info": {
   "name": "python",
   "version": "3.10.12"
  }
 },
 "nbformat": 4,
 "nbformat_minor": 2
}
