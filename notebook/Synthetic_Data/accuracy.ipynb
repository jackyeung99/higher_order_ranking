{
 "cells": [
  {
   "cell_type": "code",
   "execution_count": 4,
   "metadata": {},
   "outputs": [],
   "source": [
    "import os\n",
    "import sys\n",
    "\n",
    "import pandas as pd\n",
    "import matplotlib.pyplot as plt\n",
    "import matplotlib.cm as cm\n",
    "import matplotlib\n",
    "\n",
    "repo_root = os.path.abspath(os.path.join(os.getcwd(), '..', '..'))\n",
    "sys.path.append(repo_root)\n",
    "\n",
    "from src.utils.file_handlers import group_dataset_files, read_dataset_files\n",
    "from src.utils.operation_helpers import run_models_synthetic,  split_games\n",
    "from sklearn.model_selection import train_test_split\n",
    "from src.utils.c_operation_helpers import run_simulation\n",
    "from src.models.BradleyTerry import compute_predicted_ratings_HO_BT\n",
    "from src.utils.metrics import measure_log_likelihood, measure_likelihood"
   ]
  },
  {
   "cell_type": "markdown",
   "metadata": {},
   "source": [
    "### Example"
   ]
  },
  {
   "cell_type": "markdown",
   "metadata": {},
   "source": [
    "Some difference is expected between the C and python as the training and priors are randomized differently"
   ]
  },
  {
   "cell_type": "markdown",
   "metadata": {},
   "source": [
    "Python"
   ]
  },
  {
   "cell_type": "code",
   "execution_count": 16,
   "metadata": {},
   "outputs": [
    {
     "name": "stdout",
     "output_type": "stream",
     "text": [
      "    model  log-likelihood  leadership-log-likelihood       rms       rho  \\\n",
      "0   HO_BT       -3.648230                  -1.117244  1.015103  0.852977   \n",
      "1  HOL_BT       -4.254635                  -1.300024  1.430634  0.646957   \n",
      "2     BIN       -3.699176                  -1.130412  1.000873  0.844249   \n",
      "3    BINL       -4.385396                  -1.330248  1.403541  0.644966   \n",
      "\n",
      "        tau  iteration  \n",
      "0  0.668516         14  \n",
      "1  0.464080         12  \n",
      "2  0.658131         12  \n",
      "3  0.462798         10  \n"
     ]
    }
   ],
   "source": [
    "data_dir = os.path.join(repo_root, 'datasets', 'Synthetic_Data')\n",
    "\n",
    "filein_idx = 'N-1000_M-1000_K-5_L-0_nodes.txt'\n",
    "filein_data = 'N-1000_M-1000_K-5_L-0_edges.txt'\n",
    "\n",
    "dataset_files = {\n",
    "    'nodes':filein_idx, \n",
    "    'edges': filein_data\n",
    "    }\n",
    "\n",
    "data, pi_values = read_dataset_files(dataset_files, data_dir, is_synthetic=True)\n",
    "\n",
    "train, test = train_test_split(data, train_size=.8)\n",
    "# train, test = split_games(data, .8)\n",
    "\n",
    "df = run_models_synthetic(train, test, pi_values)\n",
    "print(df)\n"
   ]
  },
  {
   "cell_type": "markdown",
   "metadata": {},
   "source": [
    "C"
   ]
  },
  {
   "cell_type": "code",
   "execution_count": 17,
   "metadata": {},
   "outputs": [
    {
     "name": "stdout",
     "output_type": "stream",
     "text": [
      "  model  av_error  spearman   kendall     prior   HO_Like  HOL_Like iterations\n",
      "0    HO  0.148251  0.862526  0.677726  -1.77117  -3.67995  -1.19592         14\n",
      "1   HOL  0.216098  0.658045  0.474855  -1.57621  -4.16201  -1.29232         12\n",
      "2   BIN  0.155799  0.853524  0.667972  -1.87987   -3.7718  -1.22228         12\n",
      "3  BINL  0.221822  0.657307  0.474883  -1.68931  -4.26464  -1.31842         10\n"
     ]
    }
   ],
   "source": [
    "\n",
    "data_dir = os.path.join(repo_root, 'datasets', 'Synthetic_Data')\n",
    "\n",
    "filein_idx = 'N-1000_M-1000_K-5_L-0_nodes.txt'\n",
    "filein_data = 'N-1000_M-1000_K-5_L-0_edges.txt'\n",
    "\n",
    "edge_path = os.path.join(data_dir, filein_idx)\n",
    "node_path = os.path.join(data_dir, filein_data)\n",
    "\n",
    "results = run_simulation(edge_path, node_path, .8, 1)\n",
    "print(results)"
   ]
  },
  {
   "cell_type": "markdown",
   "metadata": {},
   "source": [
    "### Full Results"
   ]
  },
  {
   "cell_type": "code",
   "execution_count": 5,
   "metadata": {},
   "outputs": [],
   "source": [
    "EXPERIMENT_PATH = os.path.join(repo_root, 'exp', 'ex02')\n",
    "os.chdir(EXPERIMENT_PATH)"
   ]
  },
  {
   "cell_type": "code",
   "execution_count": 6,
   "metadata": {},
   "outputs": [
    {
     "name": "stdout",
     "output_type": "stream",
     "text": [
      "/home/jackyeung99/senior_thesis/higher_order_ranking/exp/ex02\n"
     ]
    }
   ],
   "source": [
    "print(os.getcwd())"
   ]
  }
 ],
 "metadata": {
  "kernelspec": {
   "display_name": ".venv",
   "language": "python",
   "name": "python3"
  },
  "language_info": {
   "codemirror_mode": {
    "name": "ipython",
    "version": 3
   },
   "file_extension": ".py",
   "mimetype": "text/x-python",
   "name": "python",
   "nbconvert_exporter": "python",
   "pygments_lexer": "ipython3",
   "version": "3.10.12"
  }
 },
 "nbformat": 4,
 "nbformat_minor": 4
}
