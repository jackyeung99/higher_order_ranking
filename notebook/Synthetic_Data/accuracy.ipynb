{
 "cells": [
  {
   "cell_type": "code",
   "execution_count": 5,
   "metadata": {},
   "outputs": [],
   "source": [
    "import os\n",
    "import sys\n",
    "\n",
    "import pandas as pd\n",
    "import matplotlib.pyplot as plt\n",
    "import matplotlib.cm as cm\n",
    "import matplotlib\n",
    "\n",
    "repo_root = os.path.abspath(os.path.join(os.getcwd(), '..', '..'))\n",
    "sys.path.append(repo_root)\n",
    "\n",
    "from src.utils.file_handlers import group_dataset_files, read_dataset_files\n",
    "from src.utils.operation_helpers import run_models_synthetic,  split_games\n",
    "from sklearn.model_selection import train_test_split\n",
    "from src.utils.c_operation_helpers import run_simulation"
   ]
  },
  {
   "cell_type": "markdown",
   "metadata": {},
   "source": [
    "### Example"
   ]
  },
  {
   "cell_type": "markdown",
   "metadata": {},
   "source": [
    "Some difference is expected between the C and python as the training and priors are randomized differently"
   ]
  },
  {
   "cell_type": "markdown",
   "metadata": {},
   "source": [
    "Python"
   ]
  },
  {
   "cell_type": "code",
   "execution_count": 6,
   "metadata": {},
   "outputs": [
    {
     "name": "stdout",
     "output_type": "stream",
     "text": [
      "    model  log-likelihood  leadership-log-likelihood       rms       rho  \\\n",
      "0   HO_BT       -3.336498                  -1.157699  1.581070  0.433079   \n",
      "1  HOL_BT       -3.197341                  -1.135590  1.419757  0.610061   \n",
      "2     BIN       -3.440915                  -1.163530  1.565842  0.470001   \n",
      "3    BINL       -3.345109                  -1.154851  1.405131  0.603349   \n",
      "\n",
      "        tau  iteration  \n",
      "0  0.297492         13  \n",
      "1  0.434290         12  \n",
      "2  0.324719         12  \n",
      "3  0.428087         11  \n"
     ]
    }
   ],
   "source": [
    "data_dir = os.path.join(repo_root, 'datasets', 'Synthetic_Data')\n",
    "\n",
    "filein_idx = 'N-1000_M-1000_K-4_L-0_nodes.txt'\n",
    "filein_data = 'N-1000_M-1000_K-4_L-0_edges.txt'\n",
    "\n",
    "dataset_files = {\n",
    "    'nodes':filein_idx, \n",
    "    'edges': filein_data\n",
    "    }\n",
    "\n",
    "data, pi_values = read_dataset_files(dataset_files, data_dir, is_synthetic=True)\n",
    "\n",
    "# train, test = train_test_split(data, train_size=.8)\n",
    "train, test = split_games(data, train_size=.8)\n",
    "\n",
    "results = run_models_synthetic(train, test, pi_values)\n",
    "print(results)"
   ]
  },
  {
   "cell_type": "markdown",
   "metadata": {},
   "source": [
    "C"
   ]
  },
  {
   "cell_type": "code",
   "execution_count": 7,
   "metadata": {},
   "outputs": [
    {
     "name": "stdout",
     "output_type": "stream",
     "text": [
      "  model  av_error  spearman   kendall     prior   HO_Like  HOL_Like iterations\n",
      "0    HO  0.257394  0.440752  0.301994  -1.57907  -7.23064  -1.21234         12\n",
      "1   HOL  0.221386  0.600705  0.427151  -1.55877  -6.88744  -1.16725         11\n",
      "2   BIN  0.257709   0.47181  0.326482  -1.63308  -7.38011  -1.21235         12\n",
      "3  BINL  0.227326  0.597099   0.42396  -1.63263  -7.16805  -1.18745         10\n"
     ]
    }
   ],
   "source": [
    "\n",
    "filein_idx = '../../datasets/Synthetic_Data/N-1000_M-1000_K-4_L-0_nodes.txt'\n",
    "filein_data = '../../datasets/Synthetic_Data/N-1000_M-1000_K-4_L-0_edges.txt'\n",
    "\n",
    "results = run_simulation(filein_idx, filein_data, .8, 1)\n",
    "print(results)"
   ]
  },
  {
   "cell_type": "markdown",
   "metadata": {},
   "source": [
    "### Full Results"
   ]
  },
  {
   "cell_type": "code",
   "execution_count": 8,
   "metadata": {},
   "outputs": [],
   "source": [
    "EXPERIMENT_PATH = os.path.join(repo_root, 'exp', 'ex02')\n",
    "os.chdir(EXPERIMENT_PATH)"
   ]
  },
  {
   "cell_type": "code",
   "execution_count": 9,
   "metadata": {},
   "outputs": [
    {
     "name": "stdout",
     "output_type": "stream",
     "text": [
      "/home/jackyeung99/senior_thesis/higher_order_ranking/exp/ex02\n"
     ]
    }
   ],
   "source": [
    "print(os.getcwd())"
   ]
  }
 ],
 "metadata": {
  "kernelspec": {
   "display_name": ".venv",
   "language": "python",
   "name": "python3"
  },
  "language_info": {
   "codemirror_mode": {
    "name": "ipython",
    "version": 3
   },
   "file_extension": ".py",
   "mimetype": "text/x-python",
   "name": "python",
   "nbconvert_exporter": "python",
   "pygments_lexer": "ipython3",
   "version": "3.10.12"
  }
 },
 "nbformat": 4,
 "nbformat_minor": 4
}
