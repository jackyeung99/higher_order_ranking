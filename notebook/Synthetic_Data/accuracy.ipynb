{
 "cells": [
  {
   "cell_type": "code",
   "execution_count": 2,
   "metadata": {},
   "outputs": [],
   "source": [
    "import os\n",
    "import sys\n",
    "\n",
    "import pandas as pd\n",
    "import matplotlib.pyplot as plt\n",
    "import matplotlib.cm as cm\n",
    "import matplotlib\n",
    "\n",
    "repo_root = os.path.abspath(os.path.join(os.getcwd(), '..', '..'))\n",
    "sys.path.append(repo_root)\n",
    "\n",
    "from src.utils.file_handlers import group_dataset_files, read_dataset_files\n",
    "from src.utils.operation_helpers import run_models_synthetic,  split_games\n",
    "from sklearn.model_selection import train_test_split\n",
    "from src.utils.c_operation_helpers import run_simulation_synthetic, run_simulation"
   ]
  },
  {
   "cell_type": "markdown",
   "metadata": {},
   "source": [
    "Python"
   ]
  },
  {
   "cell_type": "code",
   "execution_count": 7,
   "metadata": {},
   "outputs": [
    {
     "name": "stdout",
     "output_type": "stream",
     "text": [
      "    model  log-likelihood  leadership-log-likelihood       rms       rho  \\\n",
      "0     BIN       -3.779328                  -1.154201  1.021032  0.855832   \n",
      "1    BINL       -4.206789                  -1.284634  1.386121  0.655691   \n",
      "2   HO_BT       -3.706770                  -1.145245  1.044301  0.863139   \n",
      "3  HOL_BT       -4.105428                  -1.264734  1.421812  0.663379   \n",
      "\n",
      "        tau  iteration  \n",
      "0  0.673338         12  \n",
      "1  0.470659         10  \n",
      "2  0.681859         15  \n",
      "3  0.476774         12  \n"
     ]
    }
   ],
   "source": [
    "data_dir = os.path.join(repo_root, 'datasets', 'Synthetic_Data')\n",
    "\n",
    "filein_idx = 'N-1000_M-1000_K-5_L-0_nodes.txt'\n",
    "filein_data = 'N-1000_M-1000_K-5_L-0_edges.txt'\n",
    "\n",
    "dataset_files = {\n",
    "    'nodes':filein_idx, \n",
    "    'edges': filein_data\n",
    "    }\n",
    "\n",
    "data, pi_values = read_dataset_files(dataset_files, data_dir, is_synthetic=True)\n",
    "\n",
    "train, test = train_test_split(data, train_size=.8)\n",
    "# train, test = split_games(data, train_size=.8)\n",
    "\n",
    "results = run_models_synthetic(train, test, pi_values)\n",
    "print(results)"
   ]
  },
  {
   "cell_type": "markdown",
   "metadata": {},
   "source": [
    "C"
   ]
  },
  {
   "cell_type": "code",
   "execution_count": 5,
   "metadata": {},
   "outputs": [
    {
     "name": "stdout",
     "output_type": "stream",
     "text": [
      "  model  av_error  spearman   kendall     prior   HO_Like  HOL_Like iterations\n",
      "0    HO  0.147104  0.860964  0.676484  -1.75897  -10.2794  -1.12661         16\n",
      "1   HOL  0.210616  0.657796  0.473602  -1.57355  -11.4012  -1.27205         12\n",
      "2   BIN  0.149686  0.859922   0.67604  -1.86369  -10.3104  -1.11444         12\n",
      "3  BINL  0.215024  0.654416  0.470643  -1.68407  -11.4922  -1.25877         10\n"
     ]
    }
   ],
   "source": [
    "\n",
    "filein_idx = '../../datasets/Synthetic_Data/N-1000_M-1000_K-5_L-0_nodes.txt'\n",
    "filein_data = '../../datasets/Synthetic_Data/N-1000_M-1000_K-5_L-0_edges.txt'\n",
    "\n",
    "results = run_simulation_synthetic(filein_idx, filein_data, .8)\n",
    "print(results)"
   ]
  }
 ],
 "metadata": {
  "kernelspec": {
   "display_name": ".venv",
   "language": "python",
   "name": "python3"
  },
  "language_info": {
   "codemirror_mode": {
    "name": "ipython",
    "version": 3
   },
   "file_extension": ".py",
   "mimetype": "text/x-python",
   "name": "python",
   "nbconvert_exporter": "python",
   "pygments_lexer": "ipython3",
   "version": "3.10.12"
  }
 },
 "nbformat": 4,
 "nbformat_minor": 4
}
