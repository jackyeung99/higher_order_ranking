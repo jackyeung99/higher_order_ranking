{
 "cells": [
  {
   "cell_type": "code",
   "execution_count": 1,
   "metadata": {},
   "outputs": [],
   "source": [
    "import os\n",
    "import sys\n",
    "\n",
    "import pandas as pd\n",
    "import numpy as np\n",
    "import matplotlib.pyplot as plt\n",
    "import matplotlib.cm as cm\n",
    "import matplotlib\n",
    "\n",
    "\n",
    "repo_root = os.path.abspath(os.path.join(os.getcwd(), '..'))\n",
    "sys.path.append(repo_root)\n",
    "\n",
    "from src.utils.operation_helpers import  run_models, run_models_synthetic\n",
    "from src.utils.file_handlers import group_dataset_files, read_dataset_files\n",
    "from sklearn.model_selection import train_test_split"
   ]
  },
  {
   "cell_type": "code",
   "execution_count": 2,
   "metadata": {},
   "outputs": [],
   "source": [
    "EPOCHS = 25"
   ]
  },
  {
   "cell_type": "markdown",
   "metadata": {},
   "source": [
    "### Synthetic Data"
   ]
  },
  {
   "cell_type": "code",
   "execution_count": 7,
   "metadata": {},
   "outputs": [],
   "source": [
    "data_dir = os.path.join(repo_root, 'datasets', 'Synthetic_Data')\n",
    "\n",
    "filein_idx = 'N-1000_M-1000_K-4_L-0_nodes.txt'\n",
    "filein_data = 'N-1000_M-1000_K-4_L-0_edges.txt'\n",
    "\n",
    "dataset_files = {\n",
    "    'nodes':filein_idx, \n",
    "    'edges': filein_data\n",
    "    }\n",
    "\n",
    "results = []\n",
    "\n",
    "for epoch in range(EPOCHS):\n",
    "    data, pi_values = read_dataset_files(dataset_files, data_dir, is_synthetic=True)\n",
    "\n",
    "    train, test = train_test_split(data, train_size=.8)\n",
    "\n",
    "    df = run_models_synthetic(train, test, pi_values)\n",
    "    results.append(df)\n",
    "\n",
    "\n",
    "combined_results = pd.concat(results, ignore_index=True)\n",
    "synthetic_results = combined_results.groupby('model').mean()\n",
    "\n"
   ]
  },
  {
   "cell_type": "markdown",
   "metadata": {},
   "source": [
    "The model with the best performance of each metric is highlighted below "
   ]
  },
  {
   "cell_type": "code",
   "execution_count": 8,
   "metadata": {},
   "outputs": [
    {
     "data": {
      "text/html": [
       "<style type=\"text/css\">\n",
       "#T_a6248_row0_col2, #T_a6248_row3_col0, #T_a6248_row3_col1, #T_a6248_row3_col3, #T_a6248_row3_col4 {\n",
       "  background-color: grey;\n",
       "}\n",
       "</style>\n",
       "<table id=\"T_a6248\">\n",
       "  <thead>\n",
       "    <tr>\n",
       "      <th class=\"blank level0\" >&nbsp;</th>\n",
       "      <th id=\"T_a6248_level0_col0\" class=\"col_heading level0 col0\" >log-likelihood</th>\n",
       "      <th id=\"T_a6248_level0_col1\" class=\"col_heading level0 col1\" >leadership-log-likelihood</th>\n",
       "      <th id=\"T_a6248_level0_col2\" class=\"col_heading level0 col2\" >rms</th>\n",
       "      <th id=\"T_a6248_level0_col3\" class=\"col_heading level0 col3\" >rho</th>\n",
       "      <th id=\"T_a6248_level0_col4\" class=\"col_heading level0 col4\" >tau</th>\n",
       "    </tr>\n",
       "    <tr>\n",
       "      <th class=\"index_name level0\" >model</th>\n",
       "      <th class=\"blank col0\" >&nbsp;</th>\n",
       "      <th class=\"blank col1\" >&nbsp;</th>\n",
       "      <th class=\"blank col2\" >&nbsp;</th>\n",
       "      <th class=\"blank col3\" >&nbsp;</th>\n",
       "      <th class=\"blank col4\" >&nbsp;</th>\n",
       "    </tr>\n",
       "  </thead>\n",
       "  <tbody>\n",
       "    <tr>\n",
       "      <th id=\"T_a6248_level0_row0\" class=\"row_heading level0 row0\" >BIN</th>\n",
       "      <td id=\"T_a6248_row0_col0\" class=\"data row0 col0\" >-2.582649</td>\n",
       "      <td id=\"T_a6248_row0_col1\" class=\"data row0 col1\" >-1.046121</td>\n",
       "      <td id=\"T_a6248_row0_col2\" class=\"data row0 col2\" >1.154792</td>\n",
       "      <td id=\"T_a6248_row0_col3\" class=\"data row0 col3\" >0.806956</td>\n",
       "      <td id=\"T_a6248_row0_col4\" class=\"data row0 col4\" >0.612604</td>\n",
       "    </tr>\n",
       "    <tr>\n",
       "      <th id=\"T_a6248_level0_row1\" class=\"row_heading level0 row1\" >BINL</th>\n",
       "      <td id=\"T_a6248_row1_col0\" class=\"data row1 col0\" >-2.815593</td>\n",
       "      <td id=\"T_a6248_row1_col1\" class=\"data row1 col1\" >-1.147568</td>\n",
       "      <td id=\"T_a6248_row1_col2\" class=\"data row1 col2\" >1.413777</td>\n",
       "      <td id=\"T_a6248_row1_col3\" class=\"data row1 col3\" >0.648865</td>\n",
       "      <td id=\"T_a6248_row1_col4\" class=\"data row1 col4\" >0.462995</td>\n",
       "    </tr>\n",
       "    <tr>\n",
       "      <th id=\"T_a6248_level0_row2\" class=\"row_heading level0 row2\" >HOL_BT</th>\n",
       "      <td id=\"T_a6248_row2_col0\" class=\"data row2 col0\" >-2.772160</td>\n",
       "      <td id=\"T_a6248_row2_col1\" class=\"data row2 col1\" >-1.136661</td>\n",
       "      <td id=\"T_a6248_row2_col2\" class=\"data row2 col2\" >1.445933</td>\n",
       "      <td id=\"T_a6248_row2_col3\" class=\"data row2 col3\" >0.649542</td>\n",
       "      <td id=\"T_a6248_row2_col4\" class=\"data row2 col4\" >0.463216</td>\n",
       "    </tr>\n",
       "    <tr>\n",
       "      <th id=\"T_a6248_level0_row3\" class=\"row_heading level0 row3\" >HO_BT</th>\n",
       "      <td id=\"T_a6248_row3_col0\" class=\"data row3 col0\" >-2.546598</td>\n",
       "      <td id=\"T_a6248_row3_col1\" class=\"data row3 col1\" >-1.037260</td>\n",
       "      <td id=\"T_a6248_row3_col2\" class=\"data row3 col2\" >1.178012</td>\n",
       "      <td id=\"T_a6248_row3_col3\" class=\"data row3 col3\" >0.811120</td>\n",
       "      <td id=\"T_a6248_row3_col4\" class=\"data row3 col4\" >0.616532</td>\n",
       "    </tr>\n",
       "    <tr>\n",
       "      <th id=\"T_a6248_level0_row4\" class=\"row_heading level0 row4\" >Page_Rank</th>\n",
       "      <td id=\"T_a6248_row4_col0\" class=\"data row4 col0\" >-5.796360</td>\n",
       "      <td id=\"T_a6248_row4_col1\" class=\"data row4 col1\" >-2.592346</td>\n",
       "      <td id=\"T_a6248_row4_col2\" class=\"data row4 col2\" >7.402830</td>\n",
       "      <td id=\"T_a6248_row4_col3\" class=\"data row4 col3\" >-0.617025</td>\n",
       "      <td id=\"T_a6248_row4_col4\" class=\"data row4 col4\" >-0.444692</td>\n",
       "    </tr>\n",
       "    <tr>\n",
       "      <th id=\"T_a6248_level0_row5\" class=\"row_heading level0 row5\" >Point_Wise</th>\n",
       "      <td id=\"T_a6248_row5_col0\" class=\"data row5 col0\" >-5.334852</td>\n",
       "      <td id=\"T_a6248_row5_col1\" class=\"data row5 col1\" >-1.950544</td>\n",
       "      <td id=\"T_a6248_row5_col2\" class=\"data row5 col2\" >4.787009</td>\n",
       "      <td id=\"T_a6248_row5_col3\" class=\"data row5 col3\" >0.507674</td>\n",
       "      <td id=\"T_a6248_row5_col4\" class=\"data row5 col4\" >0.375037</td>\n",
       "    </tr>\n",
       "    <tr>\n",
       "      <th id=\"T_a6248_level0_row6\" class=\"row_heading level0 row6\" >Spring_Rank</th>\n",
       "      <td id=\"T_a6248_row6_col0\" class=\"data row6 col0\" >-2.894552</td>\n",
       "      <td id=\"T_a6248_row6_col1\" class=\"data row6 col1\" >-1.248331</td>\n",
       "      <td id=\"T_a6248_row6_col2\" class=\"data row6 col2\" >1.750876</td>\n",
       "      <td id=\"T_a6248_row6_col3\" class=\"data row6 col3\" >0.781006</td>\n",
       "      <td id=\"T_a6248_row6_col4\" class=\"data row6 col4\" >0.577374</td>\n",
       "    </tr>\n",
       "  </tbody>\n",
       "</table>\n"
      ],
      "text/plain": [
       "<pandas.io.formats.style.Styler at 0x7f00ad28c7c0>"
      ]
     },
     "execution_count": 8,
     "metadata": {},
     "output_type": "execute_result"
    }
   ],
   "source": [
    "synthetic_results.style \\\n",
    "    .highlight_max(axis=0, color='grey', subset=synthetic_results.columns.difference(['model', 'rms'])) \\\n",
    "    .highlight_min(axis=0, color='grey', subset=['rms'])"
   ]
  },
  {
   "cell_type": "markdown",
   "metadata": {},
   "source": [
    "### Real Data"
   ]
  },
  {
   "cell_type": "markdown",
   "metadata": {},
   "source": [
    "Example of running all models on a real dataset, to change the dataset identify it by indexing the dataset grouping "
   ]
  },
  {
   "cell_type": "code",
   "execution_count": 9,
   "metadata": {},
   "outputs": [],
   "source": [
    "data_dir = os.path.join(repo_root, 'datasets', 'Real_Data')\n",
    "grouped = group_dataset_files(data_dir)\n",
    "\n",
    "data, pi_values = read_dataset_files(grouped['00103'], data_dir, is_synthetic=False)\n",
    "\n",
    "results = []\n",
    "for epoch in range(EPOCHS):\n",
    "\n",
    "    train, test = train_test_split(data, train_size=.8)\n",
    "\n",
    "    df = run_models(train, test, pi_values)\n",
    "    results.append(df)\n",
    "\n",
    "\n",
    "combined_results = pd.concat(results, ignore_index=True)\n",
    "real_results = combined_results.groupby('model').mean()\n"
   ]
  },
  {
   "cell_type": "markdown",
   "metadata": {},
   "source": [
    "The model with the best performance of each metric is highlighted below "
   ]
  },
  {
   "cell_type": "code",
   "execution_count": 10,
   "metadata": {},
   "outputs": [
    {
     "data": {
      "text/html": [
       "<style type=\"text/css\">\n",
       "#T_5615b_row3_col0, #T_5615b_row3_col1 {\n",
       "  background-color: grey;\n",
       "}\n",
       "</style>\n",
       "<table id=\"T_5615b\">\n",
       "  <thead>\n",
       "    <tr>\n",
       "      <th class=\"blank level0\" >&nbsp;</th>\n",
       "      <th id=\"T_5615b_level0_col0\" class=\"col_heading level0 col0\" >log-likelihood</th>\n",
       "      <th id=\"T_5615b_level0_col1\" class=\"col_heading level0 col1\" >leadership-log-likelihood</th>\n",
       "    </tr>\n",
       "    <tr>\n",
       "      <th class=\"index_name level0\" >model</th>\n",
       "      <th class=\"blank col0\" >&nbsp;</th>\n",
       "      <th class=\"blank col1\" >&nbsp;</th>\n",
       "    </tr>\n",
       "  </thead>\n",
       "  <tbody>\n",
       "    <tr>\n",
       "      <th id=\"T_5615b_level0_row0\" class=\"row_heading level0 row0\" >BIN</th>\n",
       "      <td id=\"T_5615b_row0_col0\" class=\"data row0 col0\" >-1.459292</td>\n",
       "      <td id=\"T_5615b_row0_col1\" class=\"data row0 col1\" >-0.827206</td>\n",
       "    </tr>\n",
       "    <tr>\n",
       "      <th id=\"T_5615b_level0_row1\" class=\"row_heading level0 row1\" >BINL</th>\n",
       "      <td id=\"T_5615b_row1_col0\" class=\"data row1 col0\" >-1.490292</td>\n",
       "      <td id=\"T_5615b_row1_col1\" class=\"data row1 col1\" >-0.844197</td>\n",
       "    </tr>\n",
       "    <tr>\n",
       "      <th id=\"T_5615b_level0_row2\" class=\"row_heading level0 row2\" >HOL_BT</th>\n",
       "      <td id=\"T_5615b_row2_col0\" class=\"data row2 col0\" >-1.462481</td>\n",
       "      <td id=\"T_5615b_row2_col1\" class=\"data row2 col1\" >-0.837356</td>\n",
       "    </tr>\n",
       "    <tr>\n",
       "      <th id=\"T_5615b_level0_row3\" class=\"row_heading level0 row3\" >HO_BT</th>\n",
       "      <td id=\"T_5615b_row3_col0\" class=\"data row3 col0\" >-1.441787</td>\n",
       "      <td id=\"T_5615b_row3_col1\" class=\"data row3 col1\" >-0.821725</td>\n",
       "    </tr>\n",
       "    <tr>\n",
       "      <th id=\"T_5615b_level0_row4\" class=\"row_heading level0 row4\" >Page_Rank</th>\n",
       "      <td id=\"T_5615b_row4_col0\" class=\"data row4 col0\" >-2.060026</td>\n",
       "      <td id=\"T_5615b_row4_col1\" class=\"data row4 col1\" >-1.087361</td>\n",
       "    </tr>\n",
       "    <tr>\n",
       "      <th id=\"T_5615b_level0_row5\" class=\"row_heading level0 row5\" >Point_Wise</th>\n",
       "      <td id=\"T_5615b_row5_col0\" class=\"data row5 col0\" >-1.847701</td>\n",
       "      <td id=\"T_5615b_row5_col1\" class=\"data row5 col1\" >-0.924831</td>\n",
       "    </tr>\n",
       "    <tr>\n",
       "      <th id=\"T_5615b_level0_row6\" class=\"row_heading level0 row6\" >Spring_Rank</th>\n",
       "      <td id=\"T_5615b_row6_col0\" class=\"data row6 col0\" >-1.755317</td>\n",
       "      <td id=\"T_5615b_row6_col1\" class=\"data row6 col1\" >-0.935991</td>\n",
       "    </tr>\n",
       "  </tbody>\n",
       "</table>\n"
      ],
      "text/plain": [
       "<pandas.io.formats.style.Styler at 0x7f00ad28f0d0>"
      ]
     },
     "execution_count": 10,
     "metadata": {},
     "output_type": "execute_result"
    }
   ],
   "source": [
    "real_results.style.highlight_max(axis=0, color='grey', subset=real_results.columns.difference(['model']))"
   ]
  }
 ],
 "metadata": {
  "kernelspec": {
   "display_name": ".venv",
   "language": "python",
   "name": "python3"
  },
  "language_info": {
   "codemirror_mode": {
    "name": "ipython",
    "version": 3
   },
   "file_extension": ".py",
   "mimetype": "text/x-python",
   "name": "python",
   "nbconvert_exporter": "python",
   "pygments_lexer": "ipython3",
   "version": "3.10.12"
  }
 },
 "nbformat": 4,
 "nbformat_minor": 2
}
