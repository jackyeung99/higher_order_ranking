{
 "cells": [
  {
   "cell_type": "code",
   "execution_count": 12,
   "metadata": {},
   "outputs": [],
   "source": [
    "import os\n",
    "import sys\n",
    "import csv\n",
    "import seaborn as sns\n",
    "import matplotlib.pyplot as plt\n",
    "import pandas as pd\n",
    "import numpy as np\n",
    "\n",
    "repo_root = os.path.abspath(os.path.join(os.getcwd(), '..'))\n",
    "sys.path.append(repo_root)\n",
    "\n",
    "from src.utils.file_handlers import group_dataset_files\n",
    "from src.utils.c_operation_helpers import  run_simulation_convergence\n",
    "from src.utils.file_handlers import process_directory_real_data\n",
    "\n",
    "\n",
    "from datasets.utils.extract_ordered_games import read_data_so\n",
    "from src.models.BradleyTerry import compute_predicted_ratings_HO_BT\n",
    "from src.models.zermello import compute_predicted_ratings_plackett_luce\n",
    "\n",
    "\n"
   ]
  },
  {
   "cell_type": "code",
   "execution_count": 13,
   "metadata": {},
   "outputs": [],
   "source": [
    "EXPERIMENT_PATH = os.path.join(repo_root, 'exp', 'ex04')"
   ]
  },
  {
   "cell_type": "code",
   "execution_count": 74,
   "metadata": {},
   "outputs": [
    {
     "name": "stdout",
     "output_type": "stream",
     "text": [
      "8\n",
      "14\n",
      "1.75\n"
     ]
    }
   ],
   "source": [
    "DATASET_PATH = os.path.join(repo_root, 'datasets')\n",
    "edge_path = os.path.join(DATASET_PATH, 'Raw_Data/preflib/00058-00000218.soi')\n",
    "data, pi_values = read_data_so(edge_path)\n",
    "\n",
    "\n",
    "\n",
    "_, iter = compute_predicted_ratings_HO_BT(data, pi_values, verbose=True)\n",
    "print(len(iter))\n",
    "_, iter2 = compute_predicted_ratings_plackett_luce(data, pi_values, verbose=True)\n",
    "print(len(iter2))\n",
    "\n",
    "print(len(iter2)/len(iter))\n",
    "\n"
   ]
  },
  {
   "cell_type": "code",
   "execution_count": 8,
   "metadata": {},
   "outputs": [
    {
     "name": "stdout",
     "output_type": "stream",
     "text": [
      "/home/jackyeung99/senior_thesis/higher_order_ranking/datasets\n",
      "HO 7\n",
      "Z 33\n",
      "BIN 7\n",
      "BINZ 54\n"
     ]
    }
   ],
   "source": [
    "\n",
    "DATASET_PATH = os.path.join(repo_root, 'datasets')\n",
    "print(DATASET_PATH)\n",
    "node_path = os.path.join(DATASET_PATH, 'Real_Data/00010_nodes.txt')\n",
    "edge_path = os.path.join(DATASET_PATH, 'Real_Data/00010_edges.txt')\n",
    "\n",
    "\n",
    "results = run_simulation_convergence(node_path, edge_path, is_synthetic=0)\n",
    "\n",
    "for group in results:\n",
    "    print(group, len(results[group]['rms_convergence_criteria']))"
   ]
  },
  {
   "cell_type": "code",
   "execution_count": 16,
   "metadata": {},
   "outputs": [],
   "source": [
    "def file_handlers(): \n",
    "    data_path = os.path.join(os.getcwd(), 'data')\n",
    "\n",
    "    all_results = []\n",
    "    \n",
    "    for file in os.listdir(data_path):\n",
    "        id, _ = file.split('_data.csv')\n",
    "        if file.endswith('.csv'):\n",
    "      \n",
    "            file_path = os.path.join(data_path, file)\n",
    "            df = pd.read_csv(file_path)\n",
    "\n",
    "            result = {\n",
    "                    'dataset':id, \n",
    "                    'Ours': df['Ours'].mean(), \n",
    "                    'Zermello': df['Zermello'].mean(),\n",
    "                    'Higher_Order_Speedup': df['Zermello'].mean() / df['Ours'].mean(),\n",
    "                    'Ours_BIN': df['Ours_bin'].mean(),\n",
    "                    'Zermello_BIN' : df['Zermello_bin'].mean(),\n",
    "                    'Binary_Speedup': df['Zermello_bin'].mean() / df['Ours_bin'].mean()\n",
    "                      }\n",
    "\n",
    "            all_results.append(result)\n",
    "\n",
    "    final_df = pd.DataFrame(all_results)\n",
    "    final_df['dataset'] = pd.to_numeric(final_df['dataset'], errors='coerce')\n",
    "    return final_df.sort_values(by='dataset')\n",
    "\n",
    "\n",
    "def visualize_df(df, title):\n",
    "    \"\"\"\n",
    "    Visualizes a DataFrame with custom styling.\n",
    "    \n",
    "    Highlights the maximum value in each row if `highlight_max` is True, \n",
    "    and hides the index.\n",
    "    \"\"\"\n",
    "    print(f\"\\n{title}\\n\")\n",
    "    \n",
    "    styled_df = df.style.set_table_styles(\n",
    "        # [{'selector': 'th', 'props': [('display', 'none')]}], overwrite=False\n",
    "    ).set_properties(**{\n",
    "        'background-color': 'LightGray',\n",
    "        'color': 'black',\n",
    "        'border-color': 'black',\n",
    "        'border-style': 'solid',\n",
    "        'border-width': '1px',\n",
    "        'text-align': 'left'\n",
    "    })\n",
    "    \n",
    "    \n",
    "    styled_df = styled_df.hide(axis='index')  # Hide the index\n",
    "    display(styled_df)"
   ]
  },
  {
   "cell_type": "code",
   "execution_count": 7,
   "metadata": {},
   "outputs": [],
   "source": [
    "df = file_handlers()\n",
    "df.to_csv('results/Convergence_Table.csv')"
   ]
  },
  {
   "cell_type": "code",
   "execution_count": 8,
   "metadata": {},
   "outputs": [],
   "source": [
    "unique_datasets = df['dataset'].unique()\n",
    "dataset_info = pd.read_csv(os.path.join(repo_root, 'datasets', 'dataset_info.csv'))"
   ]
  },
  {
   "cell_type": "code",
   "execution_count": 9,
   "metadata": {},
   "outputs": [],
   "source": [
    "merged_df = df.merge(dataset_info[['Name', 'Dataset_ID']], left_on='dataset', right_on='Dataset_ID', how='inner').drop(columns=['Dataset_ID','dataset'])\n",
    "merged_df = merged_df[['Name'] + [col for col in merged_df.columns if col != 'Name']]"
   ]
  },
  {
   "cell_type": "code",
   "execution_count": 11,
   "metadata": {},
   "outputs": [
    {
     "name": "stdout",
     "output_type": "stream",
     "text": [
      "\n",
      "Conbergence on Real Datasets\n",
      "\n"
     ]
    },
    {
     "data": {
      "text/html": [
       "<style type=\"text/css\">\n",
       "#T_e7a7c_row0_col0, #T_e7a7c_row0_col1, #T_e7a7c_row0_col2, #T_e7a7c_row0_col3, #T_e7a7c_row0_col4, #T_e7a7c_row0_col5, #T_e7a7c_row0_col6, #T_e7a7c_row1_col0, #T_e7a7c_row1_col1, #T_e7a7c_row1_col2, #T_e7a7c_row1_col3, #T_e7a7c_row1_col4, #T_e7a7c_row1_col5, #T_e7a7c_row1_col6, #T_e7a7c_row2_col0, #T_e7a7c_row2_col1, #T_e7a7c_row2_col2, #T_e7a7c_row2_col3, #T_e7a7c_row2_col4, #T_e7a7c_row2_col5, #T_e7a7c_row2_col6, #T_e7a7c_row3_col0, #T_e7a7c_row3_col1, #T_e7a7c_row3_col2, #T_e7a7c_row3_col3, #T_e7a7c_row3_col4, #T_e7a7c_row3_col5, #T_e7a7c_row3_col6, #T_e7a7c_row4_col0, #T_e7a7c_row4_col1, #T_e7a7c_row4_col2, #T_e7a7c_row4_col3, #T_e7a7c_row4_col4, #T_e7a7c_row4_col5, #T_e7a7c_row4_col6, #T_e7a7c_row5_col0, #T_e7a7c_row5_col1, #T_e7a7c_row5_col2, #T_e7a7c_row5_col3, #T_e7a7c_row5_col4, #T_e7a7c_row5_col5, #T_e7a7c_row5_col6, #T_e7a7c_row6_col0, #T_e7a7c_row6_col1, #T_e7a7c_row6_col2, #T_e7a7c_row6_col3, #T_e7a7c_row6_col4, #T_e7a7c_row6_col5, #T_e7a7c_row6_col6 {\n",
       "  background-color: LightGray;\n",
       "  color: black;\n",
       "  border-color: black;\n",
       "  border-style: solid;\n",
       "  border-width: 1px;\n",
       "  text-align: left;\n",
       "}\n",
       "</style>\n",
       "<table id=\"T_e7a7c\">\n",
       "  <thead>\n",
       "    <tr>\n",
       "      <th id=\"T_e7a7c_level0_col0\" class=\"col_heading level0 col0\" >Name</th>\n",
       "      <th id=\"T_e7a7c_level0_col1\" class=\"col_heading level0 col1\" >Ours</th>\n",
       "      <th id=\"T_e7a7c_level0_col2\" class=\"col_heading level0 col2\" >Zermello</th>\n",
       "      <th id=\"T_e7a7c_level0_col3\" class=\"col_heading level0 col3\" >Higher_Order_Speedup</th>\n",
       "      <th id=\"T_e7a7c_level0_col4\" class=\"col_heading level0 col4\" >Ours_BIN</th>\n",
       "      <th id=\"T_e7a7c_level0_col5\" class=\"col_heading level0 col5\" >Zermello_BIN</th>\n",
       "      <th id=\"T_e7a7c_level0_col6\" class=\"col_heading level0 col6\" >Binary_Speedup</th>\n",
       "    </tr>\n",
       "  </thead>\n",
       "  <tbody>\n",
       "    <tr>\n",
       "      <td id=\"T_e7a7c_row0_col0\" class=\"data row0 col0\" >FIFA_World_Cup</td>\n",
       "      <td id=\"T_e7a7c_row0_col1\" class=\"data row0 col1\" >9.620000</td>\n",
       "      <td id=\"T_e7a7c_row0_col2\" class=\"data row0 col2\" >50.520000</td>\n",
       "      <td id=\"T_e7a7c_row0_col3\" class=\"data row0 col3\" >5.251559</td>\n",
       "      <td id=\"T_e7a7c_row0_col4\" class=\"data row0 col4\" >9.040000</td>\n",
       "      <td id=\"T_e7a7c_row0_col5\" class=\"data row0 col5\" >87.440000</td>\n",
       "      <td id=\"T_e7a7c_row0_col6\" class=\"data row0 col6\" >9.672566</td>\n",
       "    </tr>\n",
       "    <tr>\n",
       "      <td id=\"T_e7a7c_row1_col0\" class=\"data row1 col0\" >UCL</td>\n",
       "      <td id=\"T_e7a7c_row1_col1\" class=\"data row1 col1\" >11.340000</td>\n",
       "      <td id=\"T_e7a7c_row1_col2\" class=\"data row1 col2\" >58.780000</td>\n",
       "      <td id=\"T_e7a7c_row1_col3\" class=\"data row1 col3\" >5.183422</td>\n",
       "      <td id=\"T_e7a7c_row1_col4\" class=\"data row1 col4\" >10.880000</td>\n",
       "      <td id=\"T_e7a7c_row1_col5\" class=\"data row1 col5\" >123.080000</td>\n",
       "      <td id=\"T_e7a7c_row1_col6\" class=\"data row1 col6\" >11.312500</td>\n",
       "    </tr>\n",
       "    <tr>\n",
       "      <td id=\"T_e7a7c_row2_col0\" class=\"data row2 col0\" >Sushi_10</td>\n",
       "      <td id=\"T_e7a7c_row2_col1\" class=\"data row2 col1\" >6.920000</td>\n",
       "      <td id=\"T_e7a7c_row2_col2\" class=\"data row2 col2\" >13.320000</td>\n",
       "      <td id=\"T_e7a7c_row2_col3\" class=\"data row2 col3\" >1.924855</td>\n",
       "      <td id=\"T_e7a7c_row2_col4\" class=\"data row2 col4\" >7.100000</td>\n",
       "      <td id=\"T_e7a7c_row2_col5\" class=\"data row2 col5\" >50.320000</td>\n",
       "      <td id=\"T_e7a7c_row2_col6\" class=\"data row2 col6\" >7.087324</td>\n",
       "    </tr>\n",
       "    <tr>\n",
       "      <td id=\"T_e7a7c_row3_col0\" class=\"data row3 col0\" >Sushi_100</td>\n",
       "      <td id=\"T_e7a7c_row3_col1\" class=\"data row3 col1\" >6.980000</td>\n",
       "      <td id=\"T_e7a7c_row3_col2\" class=\"data row3 col2\" >20.660000</td>\n",
       "      <td id=\"T_e7a7c_row3_col3\" class=\"data row3 col3\" >2.959885</td>\n",
       "      <td id=\"T_e7a7c_row3_col4\" class=\"data row3 col4\" >7.180000</td>\n",
       "      <td id=\"T_e7a7c_row3_col5\" class=\"data row3 col5\" >76.520000</td>\n",
       "      <td id=\"T_e7a7c_row3_col6\" class=\"data row3 col6\" >10.657382</td>\n",
       "    </tr>\n",
       "    <tr>\n",
       "      <td id=\"T_e7a7c_row4_col0\" class=\"data row4 col0\" >AGH_Course_Selection_2004</td>\n",
       "      <td id=\"T_e7a7c_row4_col1\" class=\"data row4 col1\" >6.940000</td>\n",
       "      <td id=\"T_e7a7c_row4_col2\" class=\"data row4 col2\" >534.380000</td>\n",
       "      <td id=\"T_e7a7c_row4_col3\" class=\"data row4 col3\" >77.000000</td>\n",
       "      <td id=\"T_e7a7c_row4_col4\" class=\"data row4 col4\" >7.220000</td>\n",
       "      <td id=\"T_e7a7c_row4_col5\" class=\"data row4 col5\" >2316.620000</td>\n",
       "      <td id=\"T_e7a7c_row4_col6\" class=\"data row4 col6\" >320.861496</td>\n",
       "    </tr>\n",
       "    <tr>\n",
       "      <td id=\"T_e7a7c_row5_col0\" class=\"data row5 col0\" >APA_Election_2009</td>\n",
       "      <td id=\"T_e7a7c_row5_col1\" class=\"data row5 col1\" >7.340000</td>\n",
       "      <td id=\"T_e7a7c_row5_col2\" class=\"data row5 col2\" >17.600000</td>\n",
       "      <td id=\"T_e7a7c_row5_col3\" class=\"data row5 col3\" >2.397820</td>\n",
       "      <td id=\"T_e7a7c_row5_col4\" class=\"data row5 col4\" >7.300000</td>\n",
       "      <td id=\"T_e7a7c_row5_col5\" class=\"data row5 col5\" >35.820000</td>\n",
       "      <td id=\"T_e7a7c_row5_col6\" class=\"data row5 col6\" >4.906849</td>\n",
       "    </tr>\n",
       "    <tr>\n",
       "      <td id=\"T_e7a7c_row6_col0\" class=\"data row6 col0\" >Network_Science</td>\n",
       "      <td id=\"T_e7a7c_row6_col1\" class=\"data row6 col1\" >24.200000</td>\n",
       "      <td id=\"T_e7a7c_row6_col2\" class=\"data row6 col2\" >144.560000</td>\n",
       "      <td id=\"T_e7a7c_row6_col3\" class=\"data row6 col3\" >5.973554</td>\n",
       "      <td id=\"T_e7a7c_row6_col4\" class=\"data row6 col4\" >25.840000</td>\n",
       "      <td id=\"T_e7a7c_row6_col5\" class=\"data row6 col5\" >300.920000</td>\n",
       "      <td id=\"T_e7a7c_row6_col6\" class=\"data row6 col6\" >11.645511</td>\n",
       "    </tr>\n",
       "  </tbody>\n",
       "</table>\n"
      ],
      "text/plain": [
       "<pandas.io.formats.style.Styler at 0x7fb32a1394b0>"
      ]
     },
     "metadata": {},
     "output_type": "display_data"
    }
   ],
   "source": [
    "visualize_df(merged_df, 'Conbergence on Real Datasets')"
   ]
  },
  {
   "cell_type": "code",
   "execution_count": null,
   "metadata": {},
   "outputs": [],
   "source": []
  }
 ],
 "metadata": {
  "kernelspec": {
   "display_name": ".venv",
   "language": "python",
   "name": "python3"
  },
  "language_info": {
   "codemirror_mode": {
    "name": "ipython",
    "version": 3
   },
   "file_extension": ".py",
   "mimetype": "text/x-python",
   "name": "python",
   "nbconvert_exporter": "python",
   "pygments_lexer": "ipython3",
   "version": "3.10.12"
  }
 },
 "nbformat": 4,
 "nbformat_minor": 2
}
